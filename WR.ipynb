{
 "cells": [
  {
   "cell_type": "code",
   "execution_count": 1,
   "metadata": {},
   "outputs": [],
   "source": [
    "import pandas as pd\n",
    "import numpy as np\n",
    "import re\n",
    "import seaborn as sns"
   ]
  },
  {
   "cell_type": "code",
   "execution_count": 3,
   "metadata": {},
   "outputs": [],
   "source": [
    "dif_sta = {'TAM':6, 'GNB':21, 'NOR':26, 'KAN':31, 'BAL':18, 'WAS':15, 'NYJ':4, 'CIN':16, 'LAC':13, 'NWE':32, 'LAR':22,\n",
    "           'MIN':29, 'IND':12, 'SEA':28, 'MIA':7, 'DEN':20, 'CAR':27, 'DAL':23, 'CHI':7, 'NYG':5, 'JAX':3, 'HOU':19,\n",
    "           'OAK':9, 'PIT':30, 'ARI':17, 'ATL':24, 'BUF':10, 'CLE':1, 'PHI':25, 'DET':14, 'TEN':11, 'SFO':2}"
   ]
  },
  {
   "cell_type": "code",
   "execution_count": 6,
   "metadata": {},
   "outputs": [],
   "source": [
    "dif_pass_def = {'TAM':7, 'GNB':21, 'NOR':4, 'KAN':2, 'BAL':28, 'WAS':18, 'NYJ':9, 'CIN':1, 'LAC':24, 'NWE':11, 'LAR':19,\n",
    "           'MIN':30, 'IND':17, 'SEA':16, 'MIA':12, 'DEN':13, 'CAR':15, 'DAL':20, 'CHI':26, 'NYG':10, 'JAX':31, 'HOU':5,\n",
    "           'OAK':14, 'PIT':23, 'ARI':29, 'ATL':6, 'BUF':1, 'CLE':8, 'PHI':3, 'DET':25, 'TEN':27, 'SFO':22}"
   ]
  },
  {
   "cell_type": "code",
   "execution_count": 7,
   "metadata": {},
   "outputs": [],
   "source": [
    "def change_rank(x):\n",
    "    return (-1*(x-32))+1"
   ]
  },
  {
   "cell_type": "code",
   "execution_count": 13,
   "metadata": {},
   "outputs": [],
   "source": [
    "def clean_stats(run_stats, dic_def):\n",
    "    run_stats = run_stats.rename({'Unnamed: 7': 'Where'}, axis=1) \n",
    "    result = []\n",
    "    points_home = []\n",
    "    points_away = []\n",
    "    for x in run_stats.Result:\n",
    "        result.append(x[0])\n",
    "        reg1 = re.findall(r'\\d*[^-]', x)\n",
    "        points_home.append(reg1[2])\n",
    "        points_away.append(reg1[3])\n",
    "    run_stats['Result'] = result\n",
    "    run_stats['Points_Team'] = points_home\n",
    "    run_stats['Points_Opp'] = points_away\n",
    "    run_stats.Where.fillna('home', inplace=True)\n",
    "    run_stats2 = run_stats.reset_index(drop=True)\n",
    "    stadium = [] \n",
    "    for i, x in enumerate(run_stats2.Where):\n",
    "        if x == 'home':\n",
    "            stadium.append(1)\n",
    "        else:\n",
    "            stadium.append(0)\n",
    "    run_stats2['Where'] = stadium\n",
    "    dif_list = []\n",
    "    for i, x in enumerate(run_stats2.Where):\n",
    "        if x == 0:\n",
    "            dif_list.append(dif_sta[run_stats2.Opp[i]]+32)\n",
    "        else:\n",
    "            dif_list.append(change_rank(dif_sta[run_stats2.Tm[i]]))\n",
    "    run_stats2['Stad_Diff'] = dif_list\n",
    "    run_stats3 = run_stats2.drop(['Lg', 'Tm', 'G#', 'Rk', 'Pos', 'Age'], axis=1)\n",
    "    run_stats3['Date'] = [x.month for x in run_stats3.Date]\n",
    "    run_stats3['Date'] = run_stats3['Date'].map({9:'September', 10:'October', 11:'November', 12:'December'})\n",
    "    run_stats3['Points_Team'] = pd.to_numeric(run_stats3.Points_Team, errors='coerce')\n",
    "    run_stats3['Points_Opp'] = pd.to_numeric(run_stats3.Points_Opp, errors='coerce')\n",
    "    run_stats3['Result'] = run_stats3.Result.map({'W':1, 'L':0, 'T':2})\n",
    "    run_stats3['Opp'] = run_stats3['Opp'].map(dic_def)\n",
    "    run_stats4 = run_stats3.set_index(['Week', 'Player'])\n",
    "    run_stats5 = pd.get_dummies(run_stats4)\n",
    "    return run_stats5"
   ]
  },
  {
   "cell_type": "code",
   "execution_count": 9,
   "metadata": {},
   "outputs": [],
   "source": [
    "rec_stats = pd.read_excel('../data/rec/sportsref_rec1_18.xls')"
   ]
  },
  {
   "cell_type": "code",
   "execution_count": 11,
   "metadata": {},
   "outputs": [],
   "source": [
    "for x in range(1,23):\n",
    "    c = pd.read_excel(f'../data/rec/sportsref_download ({x}).xls', skiprows=1)\n",
    "    rec_stats = pd.concat([rec_stats, c], ignore_index = True, sort=False)"
   ]
  },
  {
   "cell_type": "code",
   "execution_count": 23,
   "metadata": {},
   "outputs": [],
   "source": [
    "rec_stats1 = rec_stats[rec_stats.Tgt >= 3]"
   ]
  },
  {
   "cell_type": "code",
   "execution_count": 24,
   "metadata": {},
   "outputs": [],
   "source": [
    "rec_stats2 = clean_stats(rec_stats1, dif_pass_def)"
   ]
  },
  {
   "cell_type": "code",
   "execution_count": 25,
   "metadata": {},
   "outputs": [
    {
     "data": {
      "text/html": [
       "<div>\n",
       "<style scoped>\n",
       "    .dataframe tbody tr th:only-of-type {\n",
       "        vertical-align: middle;\n",
       "    }\n",
       "\n",
       "    .dataframe tbody tr th {\n",
       "        vertical-align: top;\n",
       "    }\n",
       "\n",
       "    .dataframe thead th {\n",
       "        text-align: right;\n",
       "    }\n",
       "</style>\n",
       "<table border=\"1\" class=\"dataframe\">\n",
       "  <thead>\n",
       "    <tr style=\"text-align: right;\">\n",
       "      <th></th>\n",
       "      <th></th>\n",
       "      <th>Where</th>\n",
       "      <th>Opp</th>\n",
       "      <th>Result</th>\n",
       "      <th>Tgt</th>\n",
       "      <th>Rec</th>\n",
       "      <th>Yds</th>\n",
       "      <th>Y/R</th>\n",
       "      <th>TD</th>\n",
       "      <th>Ctch%</th>\n",
       "      <th>Y/Tgt</th>\n",
       "      <th>...</th>\n",
       "      <th>Points_Opp</th>\n",
       "      <th>Stad_Diff</th>\n",
       "      <th>Date_December</th>\n",
       "      <th>Date_November</th>\n",
       "      <th>Date_October</th>\n",
       "      <th>Date_September</th>\n",
       "      <th>Day_Mon</th>\n",
       "      <th>Day_Sat</th>\n",
       "      <th>Day_Sun</th>\n",
       "      <th>Day_Thu</th>\n",
       "    </tr>\n",
       "    <tr>\n",
       "      <th>Week</th>\n",
       "      <th>Player</th>\n",
       "      <th></th>\n",
       "      <th></th>\n",
       "      <th></th>\n",
       "      <th></th>\n",
       "      <th></th>\n",
       "      <th></th>\n",
       "      <th></th>\n",
       "      <th></th>\n",
       "      <th></th>\n",
       "      <th></th>\n",
       "      <th></th>\n",
       "      <th></th>\n",
       "      <th></th>\n",
       "      <th></th>\n",
       "      <th></th>\n",
       "      <th></th>\n",
       "      <th></th>\n",
       "      <th></th>\n",
       "      <th></th>\n",
       "      <th></th>\n",
       "      <th></th>\n",
       "    </tr>\n",
       "  </thead>\n",
       "  <tbody>\n",
       "    <tr>\n",
       "      <th rowspan=\"5\" valign=\"top\">1</th>\n",
       "      <th>Jared Cook</th>\n",
       "      <td>1</td>\n",
       "      <td>19</td>\n",
       "      <td>0</td>\n",
       "      <td>12</td>\n",
       "      <td>9</td>\n",
       "      <td>180</td>\n",
       "      <td>20.00</td>\n",
       "      <td>0</td>\n",
       "      <td>0.750</td>\n",
       "      <td>15.00</td>\n",
       "      <td>...</td>\n",
       "      <td>33</td>\n",
       "      <td>24</td>\n",
       "      <td>0</td>\n",
       "      <td>0</td>\n",
       "      <td>0</td>\n",
       "      <td>1</td>\n",
       "      <td>1</td>\n",
       "      <td>0</td>\n",
       "      <td>0</td>\n",
       "      <td>0</td>\n",
       "    </tr>\n",
       "    <tr>\n",
       "      <th>Michael Thomas</th>\n",
       "      <td>1</td>\n",
       "      <td>7</td>\n",
       "      <td>0</td>\n",
       "      <td>17</td>\n",
       "      <td>16</td>\n",
       "      <td>180</td>\n",
       "      <td>11.25</td>\n",
       "      <td>1</td>\n",
       "      <td>0.941</td>\n",
       "      <td>10.59</td>\n",
       "      <td>...</td>\n",
       "      <td>48</td>\n",
       "      <td>7</td>\n",
       "      <td>0</td>\n",
       "      <td>0</td>\n",
       "      <td>0</td>\n",
       "      <td>1</td>\n",
       "      <td>0</td>\n",
       "      <td>0</td>\n",
       "      <td>1</td>\n",
       "      <td>0</td>\n",
       "    </tr>\n",
       "    <tr>\n",
       "      <th>Tyreek Hill</th>\n",
       "      <td>0</td>\n",
       "      <td>24</td>\n",
       "      <td>1</td>\n",
       "      <td>8</td>\n",
       "      <td>7</td>\n",
       "      <td>169</td>\n",
       "      <td>24.14</td>\n",
       "      <td>2</td>\n",
       "      <td>0.875</td>\n",
       "      <td>21.13</td>\n",
       "      <td>...</td>\n",
       "      <td>28</td>\n",
       "      <td>45</td>\n",
       "      <td>0</td>\n",
       "      <td>0</td>\n",
       "      <td>0</td>\n",
       "      <td>1</td>\n",
       "      <td>0</td>\n",
       "      <td>0</td>\n",
       "      <td>1</td>\n",
       "      <td>0</td>\n",
       "    </tr>\n",
       "    <tr>\n",
       "      <th>Julio Jones</th>\n",
       "      <td>0</td>\n",
       "      <td>3</td>\n",
       "      <td>0</td>\n",
       "      <td>19</td>\n",
       "      <td>10</td>\n",
       "      <td>169</td>\n",
       "      <td>16.90</td>\n",
       "      <td>0</td>\n",
       "      <td>0.526</td>\n",
       "      <td>8.89</td>\n",
       "      <td>...</td>\n",
       "      <td>18</td>\n",
       "      <td>57</td>\n",
       "      <td>0</td>\n",
       "      <td>0</td>\n",
       "      <td>0</td>\n",
       "      <td>1</td>\n",
       "      <td>0</td>\n",
       "      <td>0</td>\n",
       "      <td>0</td>\n",
       "      <td>1</td>\n",
       "    </tr>\n",
       "    <tr>\n",
       "      <th>Mike Evans</th>\n",
       "      <td>0</td>\n",
       "      <td>4</td>\n",
       "      <td>1</td>\n",
       "      <td>7</td>\n",
       "      <td>7</td>\n",
       "      <td>147</td>\n",
       "      <td>21.00</td>\n",
       "      <td>1</td>\n",
       "      <td>1.000</td>\n",
       "      <td>21.00</td>\n",
       "      <td>...</td>\n",
       "      <td>40</td>\n",
       "      <td>58</td>\n",
       "      <td>0</td>\n",
       "      <td>0</td>\n",
       "      <td>0</td>\n",
       "      <td>1</td>\n",
       "      <td>0</td>\n",
       "      <td>0</td>\n",
       "      <td>1</td>\n",
       "      <td>0</td>\n",
       "    </tr>\n",
       "  </tbody>\n",
       "</table>\n",
       "<p>5 rows × 21 columns</p>\n",
       "</div>"
      ],
      "text/plain": [
       "                     Where  Opp  Result  Tgt  Rec  Yds    Y/R  TD  Ctch%  \\\n",
       "Week Player                                                                \n",
       "1    Jared Cook          1   19       0   12    9  180  20.00   0  0.750   \n",
       "     Michael Thomas      1    7       0   17   16  180  11.25   1  0.941   \n",
       "     Tyreek Hill         0   24       1    8    7  169  24.14   2  0.875   \n",
       "     Julio Jones         0    3       0   19   10  169  16.90   0  0.526   \n",
       "     Mike Evans          0    4       1    7    7  147  21.00   1  1.000   \n",
       "\n",
       "                     Y/Tgt  ...  Points_Opp  Stad_Diff  Date_December  \\\n",
       "Week Player                 ...                                         \n",
       "1    Jared Cook      15.00  ...          33         24              0   \n",
       "     Michael Thomas  10.59  ...          48          7              0   \n",
       "     Tyreek Hill     21.13  ...          28         45              0   \n",
       "     Julio Jones      8.89  ...          18         57              0   \n",
       "     Mike Evans      21.00  ...          40         58              0   \n",
       "\n",
       "                     Date_November  Date_October  Date_September  Day_Mon  \\\n",
       "Week Player                                                                 \n",
       "1    Jared Cook                  0             0               1        1   \n",
       "     Michael Thomas              0             0               1        0   \n",
       "     Tyreek Hill                 0             0               1        0   \n",
       "     Julio Jones                 0             0               1        0   \n",
       "     Mike Evans                  0             0               1        0   \n",
       "\n",
       "                     Day_Sat  Day_Sun  Day_Thu  \n",
       "Week Player                                     \n",
       "1    Jared Cook            0        0        0  \n",
       "     Michael Thomas        0        1        0  \n",
       "     Tyreek Hill           0        1        0  \n",
       "     Julio Jones           0        0        1  \n",
       "     Mike Evans            0        1        0  \n",
       "\n",
       "[5 rows x 21 columns]"
      ]
     },
     "execution_count": 25,
     "metadata": {},
     "output_type": "execute_result"
    }
   ],
   "source": [
    "rec_stats2.head()"
   ]
  },
  {
   "cell_type": "code",
   "execution_count": 29,
   "metadata": {},
   "outputs": [],
   "source": [
    "rec_stats3 = rec_stats2.drop(['Result', 'Tgt', 'Y/R','Rec', 'Yds', 'TD', 'Ctch%', 'Y/Tgt', 'Points_Opp'], axis=1)"
   ]
  },
  {
   "cell_type": "code",
   "execution_count": 30,
   "metadata": {},
   "outputs": [
    {
     "data": {
      "text/plain": [
       "Index(['Where', 'Opp', 'Points_Team', 'Stad_Diff', 'Date_December',\n",
       "       'Date_November', 'Date_October', 'Date_September', 'Day_Mon', 'Day_Sat',\n",
       "       'Day_Sun', 'Day_Thu'],\n",
       "      dtype='object')"
      ]
     },
     "execution_count": 30,
     "metadata": {},
     "output_type": "execute_result"
    }
   ],
   "source": [
    "rec_stats3.columns"
   ]
  },
  {
   "cell_type": "code",
   "execution_count": 31,
   "metadata": {},
   "outputs": [],
   "source": [
    "corr_rec = rec_stats3.corr()"
   ]
  },
  {
   "cell_type": "code",
   "execution_count": 32,
   "metadata": {},
   "outputs": [
    {
     "data": {
      "text/plain": [
       "<matplotlib.axes._subplots.AxesSubplot at 0x1a16e76da0>"
      ]
     },
     "execution_count": 32,
     "metadata": {},
     "output_type": "execute_result"
    },
    {
     "data": {
      "image/png": "[encoded data removed]",
      "text/plain": [
       "<Figure size 1440x720 with 2 Axes>"
      ]
     },
     "metadata": {
      "needs_background": "light"
     },
     "output_type": "display_data"
    }
   ],
   "source": [
    "import matplotlib.pyplot as plt\n",
    "plt.figure(figsize=(20,10))\n",
    "sns.heatmap(corr_rec, \n",
    "        xticklabels=corr_rec.columns,\n",
    "        yticklabels=corr_rec.columns)"
   ]
  },
  {
   "cell_type": "code",
   "execution_count": 33,
   "metadata": {},
   "outputs": [],
   "source": [
    "from sklearn.model_selection import train_test_split\n",
    "from sklearn.linear_model import LinearRegression\n",
    "from sklearn.metrics import mean_squared_error, mean_absolute_error"
   ]
  },
  {
   "cell_type": "code",
   "execution_count": 34,
   "metadata": {},
   "outputs": [],
   "source": [
    "y = rec_stats3.Points_Team\n",
    "X = rec_stats3.drop('Points_Team', axis=1)\n",
    "X_train, X_test, y_train, y_test = train_test_split(X, y)\n",
    "linreg = LinearRegression()\n",
    "linreg.fit(X_train, y_train)\n",
    "pred_rec = linreg.predict(X_test)"
   ]
  },
  {
   "cell_type": "code",
   "execution_count": 36,
   "metadata": {},
   "outputs": [],
   "source": [
    "mse = mean_squared_error(y_test, pred_rec)\n",
    "rmse = mse**(1/2)\n",
    "mae = mean_absolute_error(y_test, pred_rec)"
   ]
  },
  {
   "cell_type": "code",
   "execution_count": 37,
   "metadata": {},
   "outputs": [
    {
     "name": "stdout",
     "output_type": "stream",
     "text": [
      "rmse:  9.870317170231534 \n",
      " mae: 7.942589253129678\n"
     ]
    }
   ],
   "source": [
    "print('rmse: ', rmse, '\\n', 'mae:', mae)"
   ]
  },
  {
   "cell_type": "code",
   "execution_count": null,
   "metadata": {},
   "outputs": [],
   "source": []
  }
 ],
 "metadata": {
  "kernelspec": {
   "display_name": "Python 3",
   "language": "python",
   "name": "python3"
  },
  "language_info": {
   "codemirror_mode": {
    "name": "ipython",
    "version": 3
   },
   "file_extension": ".py",
   "mimetype": "text/x-python",
   "name": "python",
   "nbconvert_exporter": "python",
   "pygments_lexer": "ipython3",
   "version": "3.7.3"
  }
 },
 "nbformat": 4,
 "nbformat_minor": 2
}
