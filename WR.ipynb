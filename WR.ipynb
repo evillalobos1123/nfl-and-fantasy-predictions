{
 "cells": [
  {
   "cell_type": "code",
   "execution_count": 1,
   "metadata": {},
   "outputs": [],
   "source": [
    "import pandas as pd\n",
    "import numpy as np\n",
    "import re\n",
    "import seaborn as sns"
   ]
  },
  {
   "cell_type": "code",
   "execution_count": 3,
   "metadata": {},
   "outputs": [],
   "source": [
    "dif_sta = {'TAM':6, 'GNB':21, 'NOR':26, 'KAN':31, 'BAL':18, 'WAS':15, 'NYJ':4, 'CIN':16, 'LAC':13, 'NWE':32, 'LAR':22,\n",
    "           'MIN':29, 'IND':12, 'SEA':28, 'MIA':7, 'DEN':20, 'CAR':27, 'DAL':23, 'CHI':7, 'NYG':5, 'JAX':3, 'HOU':19,\n",
    "           'OAK':9, 'PIT':30, 'ARI':17, 'ATL':24, 'BUF':10, 'CLE':1, 'PHI':25, 'DET':14, 'TEN':11, 'SFO':2}"
   ]
  },
  {
   "cell_type": "code",
   "execution_count": 6,
   "metadata": {},
   "outputs": [],
   "source": [
    "dif_pass_def = {'TAM':7, 'GNB':21, 'NOR':4, 'KAN':2, 'BAL':28, 'WAS':18, 'NYJ':9, 'CIN':1, 'LAC':24, 'NWE':11, 'LAR':19,\n",
    "           'MIN':30, 'IND':17, 'SEA':16, 'MIA':12, 'DEN':13, 'CAR':15, 'DAL':20, 'CHI':26, 'NYG':10, 'JAX':31, 'HOU':5,\n",
    "           'OAK':14, 'PIT':23, 'ARI':29, 'ATL':6, 'BUF':1, 'CLE':8, 'PHI':3, 'DET':25, 'TEN':27, 'SFO':22}"
   ]
  },
  {
   "cell_type": "code",
   "execution_count": 7,
   "metadata": {},
   "outputs": [],
   "source": [
    "def change_rank(x):\n",
    "    return (-1*(x-32))+1"
   ]
  },
  {
   "cell_type": "code",
   "execution_count": 70,
   "metadata": {},
   "outputs": [],
   "source": [
    "def clean_stats_wr(run_stats, dic_def):\n",
    "    run_stats = run_stats.rename({'Unnamed: 7': 'Where'}, axis=1)\n",
    "    run_stats = run_stats[run_stats.Tgt >= 3]\n",
    "    result = []\n",
    "    points_home = []\n",
    "    points_away = []\n",
    "    for x in run_stats.Result:\n",
    "        result.append(x[0])\n",
    "        reg1 = re.findall(r'\\d*[^-]', x)\n",
    "        points_home.append(reg1[2])\n",
    "        points_away.append(reg1[3])\n",
    "    run_stats['Result'] = result\n",
    "    run_stats['Points_Team'] = points_home\n",
    "    run_stats['Points_Opp'] = points_away\n",
    "    run_stats.Where.fillna('home', inplace=True)\n",
    "    run_stats2 = run_stats.reset_index(drop=True)\n",
    "    stadium = [] \n",
    "    for i, x in enumerate(run_stats2.Where):\n",
    "        if x == 'home':\n",
    "            stadium.append(1)\n",
    "        else:\n",
    "            stadium.append(0)\n",
    "    run_stats2['Where'] = stadium\n",
    "    dif_list = []\n",
    "    for i, x in enumerate(run_stats2.Where):\n",
    "        if x == 0:\n",
    "            dif_list.append(dif_sta[run_stats2.Opp[i]]+32)\n",
    "        else:\n",
    "            dif_list.append(change_rank(dif_sta[run_stats2.Tm[i]]))\n",
    "    run_stats2['Stad_Diff'] = dif_list\n",
    "    run_stats3 = run_stats2.drop(['Lg', 'Tm', 'G#', 'Rk', 'Pos', 'Age', 'Tgt', 'Y/R', 'Rec'], axis=1)\n",
    "    run_stats3['Month'] = [x.month for x in run_stats3.Date]\n",
    "    run_stats3['Month'] = run_stats3['Date'].map({9:'September', 10:'October', 11:'November', 12:'December'})\n",
    "    run_stats3['Points_Team'] = pd.to_numeric(run_stats3.Points_Team, errors='coerce')\n",
    "    run_stats3['Points_Opp'] = pd.to_numeric(run_stats3.Points_Opp, errors='coerce')\n",
    "    run_stats3['Result'] = run_stats3.Result.map({'W':1, 'L':0, 'T':2})\n",
    "    run_stats3['Opp'] = run_stats3['Opp'].map(dic_def)\n",
    "    run_stats4 = run_stats3.set_index(['Date', 'Week', 'Player'])\n",
    "    run_stats5 = pd.get_dummies(run_stats4)\n",
    "    return run_stats5"
   ]
  },
  {
   "cell_type": "code",
   "execution_count": 68,
   "metadata": {},
   "outputs": [],
   "source": [
    "def clean_stats_wr19_w4(df1, w1):\n",
    "    w1['Date_October'] = [0 for x in range(len(w1))]\n",
    "    w1['Date_November'] = [0 for x in range(len(w1))]\n",
    "    w1['Date_December'] = [0 for x in range(len(w1))]\n",
    "    w1['Day_Sat'] = [0 for x in range(len(w1))]\n",
    "    w1 = w1[list(df1.columns)]\n",
    "    run = pd.concat([df1, w1], sort=False)\n",
    "    return run"
   ]
  },
  {
   "cell_type": "code",
   "execution_count": 58,
   "metadata": {},
   "outputs": [],
   "source": [
    "rec_stats = pd.read_excel('../data/rec/sportsref_rec1_18.xls')"
   ]
  },
  {
   "cell_type": "code",
   "execution_count": 59,
   "metadata": {},
   "outputs": [],
   "source": [
    "for x in range(1,23):\n",
    "    c = pd.read_excel(f'../data/rec/sportsref_download ({x}).xls', skiprows=1)\n",
    "    rec_stats = pd.concat([rec_stats, c], ignore_index = True, sort=False)"
   ]
  },
  {
   "cell_type": "code",
   "execution_count": 71,
   "metadata": {},
   "outputs": [],
   "source": [
    "rec_stats2 = clean_stats(rec_stats1, dif_pass_def)"
   ]
  },
  {
   "cell_type": "code",
   "execution_count": 60,
   "metadata": {},
   "outputs": [],
   "source": [
    "w1r = pd.read_excel('../data/rec/sportsref_download19_1(1).xls', skiprows=1)"
   ]
  },
  {
   "cell_type": "code",
   "execution_count": 65,
   "metadata": {},
   "outputs": [],
   "source": [
    "w1 = clean_stats(w1r, dif_pass_def)\n",
    "rec_statsw1 = clean_stats_wr19_w4(rec_stats2,w1)"
   ]
  },
  {
   "cell_type": "code",
   "execution_count": 73,
   "metadata": {},
   "outputs": [],
   "source": [
    "recw1_mod = rec_statsw1.drop(['Result', 'Points_Team', 'Points_Opp'], axis=1)"
   ]
  },
  {
   "cell_type": "code",
   "execution_count": 74,
   "metadata": {},
   "outputs": [],
   "source": [
    "from sklearn.model_selection import train_test_split\n",
    "from sklearn.linear_model import LinearRegression\n",
    "from sklearn.metrics import mean_squared_error, mean_absolute_error"
   ]
  },
  {
   "cell_type": "code",
   "execution_count": 75,
   "metadata": {},
   "outputs": [],
   "source": [
    "y = recw1_mod.TD\n",
    "X = recw1_mod.drop('TD', axis=1)\n",
    "X_train, X_test, y_train, y_test = train_test_split(X, y)\n",
    "linreg = LinearRegression()\n",
    "linreg.fit(X_train, y_train)\n",
    "pred_rec = linreg.predict(X_test)"
   ]
  },
  {
   "cell_type": "code",
   "execution_count": 76,
   "metadata": {},
   "outputs": [],
   "source": [
    "mse = mean_squared_error(y_test, pred_rec)\n",
    "rmse = mse**(1/2)\n",
    "mae = mean_absolute_error(y_test, pred_rec)"
   ]
  },
  {
   "cell_type": "code",
   "execution_count": 77,
   "metadata": {},
   "outputs": [
    {
     "name": "stdout",
     "output_type": "stream",
     "text": [
      "rmse:  0.4930372721042804 \n",
      " mae: 0.3798460264974695\n"
     ]
    }
   ],
   "source": [
    "print('rmse: ', rmse, '\\n', 'mae:', mae)"
   ]
  },
  {
   "cell_type": "code",
   "execution_count": 81,
   "metadata": {},
   "outputs": [
    {
     "data": {
      "text/plain": [
       "59"
      ]
     },
     "execution_count": 81,
     "metadata": {},
     "output_type": "execute_result"
    }
   ],
   "source": [
    "rec_statsw1.Points_Team.max()"
   ]
  },
  {
   "cell_type": "code",
   "execution_count": 82,
   "metadata": {},
   "outputs": [
    {
     "data": {
      "text/plain": [
       "3"
      ]
     },
     "execution_count": 82,
     "metadata": {},
     "output_type": "execute_result"
    }
   ],
   "source": [
    "rec_statsw1.TD.max()"
   ]
  },
  {
   "cell_type": "code",
   "execution_count": 84,
   "metadata": {},
   "outputs": [
    {
     "data": {
      "text/html": [
       "<div>\n",
       "<style scoped>\n",
       "    .dataframe tbody tr th:only-of-type {\n",
       "        vertical-align: middle;\n",
       "    }\n",
       "\n",
       "    .dataframe tbody tr th {\n",
       "        vertical-align: top;\n",
       "    }\n",
       "\n",
       "    .dataframe thead th {\n",
       "        text-align: right;\n",
       "    }\n",
       "</style>\n",
       "<table border=\"1\" class=\"dataframe\">\n",
       "  <thead>\n",
       "    <tr style=\"text-align: right;\">\n",
       "      <th></th>\n",
       "      <th></th>\n",
       "      <th>Where</th>\n",
       "      <th>Opp</th>\n",
       "      <th>Yds</th>\n",
       "      <th>TD</th>\n",
       "      <th>Ctch%</th>\n",
       "      <th>Y/Tgt</th>\n",
       "      <th>Stad_Diff</th>\n",
       "      <th>Day_Mon</th>\n",
       "      <th>Day_Sat</th>\n",
       "      <th>Day_Sun</th>\n",
       "      <th>Day_Thu</th>\n",
       "    </tr>\n",
       "    <tr>\n",
       "      <th>Date</th>\n",
       "      <th>Week</th>\n",
       "      <th></th>\n",
       "      <th></th>\n",
       "      <th></th>\n",
       "      <th></th>\n",
       "      <th></th>\n",
       "      <th></th>\n",
       "      <th></th>\n",
       "      <th></th>\n",
       "      <th></th>\n",
       "      <th></th>\n",
       "      <th></th>\n",
       "    </tr>\n",
       "  </thead>\n",
       "  <tbody>\n",
       "    <tr>\n",
       "      <th>2019-09-08</th>\n",
       "      <th>1</th>\n",
       "      <td>0</td>\n",
       "      <td>12</td>\n",
       "      <td>147</td>\n",
       "      <td>2</td>\n",
       "      <td>0.8</td>\n",
       "      <td>29.4</td>\n",
       "      <td>39</td>\n",
       "      <td>0</td>\n",
       "      <td>0</td>\n",
       "      <td>1</td>\n",
       "      <td>0</td>\n",
       "    </tr>\n",
       "  </tbody>\n",
       "</table>\n",
       "</div>"
      ],
      "text/plain": [
       "                 Where  Opp  Yds  TD  Ctch%  Y/Tgt  Stad_Diff  Day_Mon  \\\n",
       "Date       Week                                                          \n",
       "2019-09-08 1         0   12  147   2    0.8   29.4         39        0   \n",
       "\n",
       "                 Day_Sat  Day_Sun  Day_Thu  \n",
       "Date       Week                             \n",
       "2019-09-08 1           0        1        0  "
      ]
     },
     "execution_count": 84,
     "metadata": {},
     "output_type": "execute_result"
    }
   ],
   "source": [
    "recw1_mod.xs('Marquise Brown', level='Player')"
   ]
  },
  {
   "cell_type": "code",
   "execution_count": null,
   "metadata": {},
   "outputs": [],
   "source": []
  }
 ],
 "metadata": {
  "kernelspec": {
   "display_name": "Python 3",
   "language": "python",
   "name": "python3"
  },
  "language_info": {
   "codemirror_mode": {
    "name": "ipython",
    "version": 3
   },
   "file_extension": ".py",
   "mimetype": "text/x-python",
   "name": "python",
   "nbconvert_exporter": "python",
   "pygments_lexer": "ipython3",
   "version": "3.7.3"
  }
 },
 "nbformat": 4,
 "nbformat_minor": 2
}
