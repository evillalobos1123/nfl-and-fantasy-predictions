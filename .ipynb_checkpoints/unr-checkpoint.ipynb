{
 "cells": [
  {
   "cell_type": "code",
   "execution_count": 1,
   "metadata": {},
   "outputs": [],
   "source": [
    "import pandas as pd\n",
    "import numpy as np\n",
    "import re\n",
    "import seaborn as sns"
   ]
  },
  {
   "cell_type": "code",
   "execution_count": 52,
   "metadata": {},
   "outputs": [],
   "source": [
    "def change_rank(x):\n",
    "    return (-1*(x-32))+1"
   ]
  },
  {
   "cell_type": "code",
   "execution_count": 60,
   "metadata": {},
   "outputs": [],
   "source": [
    "run_stats = pd.read_excel('../data/run/sportsref_rus1_18.xls')"
   ]
  },
  {
   "cell_type": "code",
   "execution_count": 61,
   "metadata": {},
   "outputs": [],
   "source": [
    "for x in range(1,12):\n",
    "    c = pd.read_excel(f'../data/run/sportsref_download ({x}).xls', skiprows=1)\n",
    "    run_stats = pd.concat([run_stats, c], ignore_index = True, sort=False)\n",
    "  "
   ]
  },
  {
   "cell_type": "code",
   "execution_count": 62,
   "metadata": {},
   "outputs": [
    {
     "data": {
      "text/plain": [
       "(1857, 17)"
      ]
     },
     "execution_count": 62,
     "metadata": {},
     "output_type": "execute_result"
    }
   ],
   "source": [
    "run_stats.shape"
   ]
  },
  {
   "cell_type": "code",
   "execution_count": 63,
   "metadata": {},
   "outputs": [
    {
     "data": {
      "text/plain": [
       "Index(['Rk', 'Player', 'Pos', 'Age', 'Date', 'Lg', 'Tm', 'Unnamed: 7', 'Opp',\n",
       "       'Result', 'G#', 'Week', 'Day', 'Att', 'Yds', 'Y/A', 'TD'],\n",
       "      dtype='object')"
      ]
     },
     "execution_count": 63,
     "metadata": {},
     "output_type": "execute_result"
    }
   ],
   "source": [
    "run_stats.columns"
   ]
  },
  {
   "cell_type": "code",
   "execution_count": 64,
   "metadata": {},
   "outputs": [
    {
     "data": {
      "text/plain": [
       "1"
      ]
     },
     "execution_count": 64,
     "metadata": {},
     "output_type": "execute_result"
    }
   ],
   "source": [
    "run_stats.Week.min()"
   ]
  },
  {
   "cell_type": "code",
   "execution_count": 11,
   "metadata": {},
   "outputs": [
    {
     "data": {
      "text/html": [
       "<div>\n",
       "<style scoped>\n",
       "    .dataframe tbody tr th:only-of-type {\n",
       "        vertical-align: middle;\n",
       "    }\n",
       "\n",
       "    .dataframe tbody tr th {\n",
       "        vertical-align: top;\n",
       "    }\n",
       "\n",
       "    .dataframe thead th {\n",
       "        text-align: right;\n",
       "    }\n",
       "</style>\n",
       "<table border=\"1\" class=\"dataframe\">\n",
       "  <thead>\n",
       "    <tr style=\"text-align: right;\">\n",
       "      <th></th>\n",
       "      <th>Rk</th>\n",
       "      <th>Player</th>\n",
       "      <th>Pos</th>\n",
       "      <th>Age</th>\n",
       "      <th>Date</th>\n",
       "      <th>Lg</th>\n",
       "      <th>Tm</th>\n",
       "      <th>Unnamed: 7</th>\n",
       "      <th>Opp</th>\n",
       "      <th>Result</th>\n",
       "      <th>G#</th>\n",
       "      <th>Week</th>\n",
       "      <th>Day</th>\n",
       "      <th>Att</th>\n",
       "      <th>Yds</th>\n",
       "      <th>Y/A</th>\n",
       "      <th>TD</th>\n",
       "    </tr>\n",
       "  </thead>\n",
       "  <tbody>\n",
       "    <tr>\n",
       "      <th>0</th>\n",
       "      <td>1</td>\n",
       "      <td>James Conner</td>\n",
       "      <td>RB</td>\n",
       "      <td>23.127</td>\n",
       "      <td>2018-09-09</td>\n",
       "      <td>NFL</td>\n",
       "      <td>PIT</td>\n",
       "      <td>@</td>\n",
       "      <td>CLE</td>\n",
       "      <td>T 21-21</td>\n",
       "      <td>1</td>\n",
       "      <td>1</td>\n",
       "      <td>Sun</td>\n",
       "      <td>31</td>\n",
       "      <td>135</td>\n",
       "      <td>4.35</td>\n",
       "      <td>2</td>\n",
       "    </tr>\n",
       "    <tr>\n",
       "      <th>1</th>\n",
       "      <td>2</td>\n",
       "      <td>Todd Gurley</td>\n",
       "      <td>RB</td>\n",
       "      <td>24.038</td>\n",
       "      <td>2018-09-10</td>\n",
       "      <td>NFL</td>\n",
       "      <td>LAR</td>\n",
       "      <td>@</td>\n",
       "      <td>OAK</td>\n",
       "      <td>W 33-13</td>\n",
       "      <td>1</td>\n",
       "      <td>1</td>\n",
       "      <td>Mon</td>\n",
       "      <td>20</td>\n",
       "      <td>108</td>\n",
       "      <td>5.40</td>\n",
       "      <td>0</td>\n",
       "    </tr>\n",
       "    <tr>\n",
       "      <th>2</th>\n",
       "      <td>3</td>\n",
       "      <td>Saquon Barkley</td>\n",
       "      <td>RB</td>\n",
       "      <td>21.212</td>\n",
       "      <td>2018-09-09</td>\n",
       "      <td>NFL</td>\n",
       "      <td>NYG</td>\n",
       "      <td>NaN</td>\n",
       "      <td>JAX</td>\n",
       "      <td>L 15-20</td>\n",
       "      <td>1</td>\n",
       "      <td>1</td>\n",
       "      <td>Sun</td>\n",
       "      <td>18</td>\n",
       "      <td>106</td>\n",
       "      <td>5.89</td>\n",
       "      <td>1</td>\n",
       "    </tr>\n",
       "    <tr>\n",
       "      <th>3</th>\n",
       "      <td>4</td>\n",
       "      <td>Isaiah Crowell</td>\n",
       "      <td>RB</td>\n",
       "      <td>25.245</td>\n",
       "      <td>2018-09-10</td>\n",
       "      <td>NFL</td>\n",
       "      <td>NYJ</td>\n",
       "      <td>@</td>\n",
       "      <td>DET</td>\n",
       "      <td>W 48-17</td>\n",
       "      <td>1</td>\n",
       "      <td>1</td>\n",
       "      <td>Mon</td>\n",
       "      <td>10</td>\n",
       "      <td>102</td>\n",
       "      <td>10.20</td>\n",
       "      <td>2</td>\n",
       "    </tr>\n",
       "    <tr>\n",
       "      <th>4</th>\n",
       "      <td>5</td>\n",
       "      <td>Lamar Miller</td>\n",
       "      <td>RB</td>\n",
       "      <td>27.137</td>\n",
       "      <td>2018-09-09</td>\n",
       "      <td>NFL</td>\n",
       "      <td>HOU</td>\n",
       "      <td>@</td>\n",
       "      <td>NWE</td>\n",
       "      <td>L 20-27</td>\n",
       "      <td>1</td>\n",
       "      <td>1</td>\n",
       "      <td>Sun</td>\n",
       "      <td>20</td>\n",
       "      <td>98</td>\n",
       "      <td>4.90</td>\n",
       "      <td>0</td>\n",
       "    </tr>\n",
       "  </tbody>\n",
       "</table>\n",
       "</div>"
      ],
      "text/plain": [
       "   Rk          Player Pos     Age       Date   Lg   Tm Unnamed: 7  Opp  \\\n",
       "0   1    James Conner  RB  23.127 2018-09-09  NFL  PIT          @  CLE   \n",
       "1   2     Todd Gurley  RB  24.038 2018-09-10  NFL  LAR          @  OAK   \n",
       "2   3  Saquon Barkley  RB  21.212 2018-09-09  NFL  NYG        NaN  JAX   \n",
       "3   4  Isaiah Crowell  RB  25.245 2018-09-10  NFL  NYJ          @  DET   \n",
       "4   5    Lamar Miller  RB  27.137 2018-09-09  NFL  HOU          @  NWE   \n",
       "\n",
       "    Result  G#  Week  Day  Att  Yds    Y/A  TD  \n",
       "0  T 21-21   1     1  Sun   31  135   4.35   2  \n",
       "1  W 33-13   1     1  Mon   20  108   5.40   0  \n",
       "2  L 15-20   1     1  Sun   18  106   5.89   1  \n",
       "3  W 48-17   1     1  Mon   10  102  10.20   2  \n",
       "4  L 20-27   1     1  Sun   20   98   4.90   0  "
      ]
     },
     "execution_count": 11,
     "metadata": {},
     "output_type": "execute_result"
    }
   ],
   "source": [
    "run_stats.head()"
   ]
  },
  {
   "cell_type": "code",
   "execution_count": 65,
   "metadata": {},
   "outputs": [],
   "source": [
    "run_stats = run_stats.rename({'Unnamed: 7': 'Where'}, axis=1) "
   ]
  },
  {
   "cell_type": "code",
   "execution_count": 66,
   "metadata": {},
   "outputs": [
    {
     "data": {
      "text/plain": [
       "array(['RB', 'HB', 'QB', 'WR', 'FB', 'P', 'TE', 'LCB', 'CB', 'DE', 'S',\n",
       "       'SS'], dtype=object)"
      ]
     },
     "execution_count": 66,
     "metadata": {},
     "output_type": "execute_result"
    }
   ],
   "source": [
    "run_stats.Pos.unique()"
   ]
  },
  {
   "cell_type": "code",
   "execution_count": 67,
   "metadata": {},
   "outputs": [],
   "source": [
    "run_stats = run_stats[(run_stats['Yds'] >= 10) & (run_stats['Att'] >= 3)]\n"
   ]
  },
  {
   "cell_type": "code",
   "execution_count": 42,
   "metadata": {},
   "outputs": [
    {
     "data": {
      "text/plain": [
       "array(['RB', 'HB', 'QB', 'WR', 'TE', 'FB'], dtype=object)"
      ]
     },
     "execution_count": 42,
     "metadata": {},
     "output_type": "execute_result"
    }
   ],
   "source": [
    "run_stats.Pos.unique()"
   ]
  },
  {
   "cell_type": "code",
   "execution_count": 68,
   "metadata": {},
   "outputs": [],
   "source": [
    "result = []\n",
    "points_home = []\n",
    "points_away = []\n",
    "for x in run_stats.Result:\n",
    "    result.append(x[0])\n",
    "    reg1 = re.findall(r'\\d*[^-]', x)\n",
    "    points_home.append(reg1[2])\n",
    "    points_away.append(reg1[3])"
   ]
  },
  {
   "cell_type": "code",
   "execution_count": 69,
   "metadata": {},
   "outputs": [],
   "source": [
    "run_stats['Result'] = result\n",
    "run_stats['Points_Team'] = points_home\n",
    "run_stats['Points_Opp'] = points_away"
   ]
  },
  {
   "cell_type": "code",
   "execution_count": 70,
   "metadata": {},
   "outputs": [],
   "source": [
    "run_stats.Where.fillna('home', inplace=True)"
   ]
  },
  {
   "cell_type": "code",
   "execution_count": 71,
   "metadata": {},
   "outputs": [],
   "source": [
    "run_stats2 = run_stats.reset_index()"
   ]
  },
  {
   "cell_type": "code",
   "execution_count": 72,
   "metadata": {},
   "outputs": [],
   "source": [
    "stadium = [] \n",
    "for i, x in enumerate(run_stats2.Where):\n",
    "    if x == 'home':\n",
    "        stadium.append(1)\n",
    "    else:\n",
    "        stadium.append(0)\n",
    "run_stats2['Where'] = stadium"
   ]
  },
  {
   "cell_type": "code",
   "execution_count": 73,
   "metadata": {},
   "outputs": [],
   "source": [
    "dif_sta = {'TAM':6, 'GNB':21, 'NOR':26, 'KAN':31, 'BAL':18, 'WAS':15, 'NYJ':4, 'CIN':16, 'LAC':13, 'NWE':32, 'LAR':22,\n",
    "           'MIN':29, 'IND':12, 'SEA':28, 'MIA':7, 'DEN':20, 'CAR':27, 'DAL':23, 'CHI':7, 'NYG':5, 'JAX':3, 'HOU':19,\n",
    "           'OAK':9, 'PIT':30, 'ARI':17, 'ATL':24, 'BUF':10, 'CLE':1, 'PHI':25, 'DET':14, 'TEN':11, 'SFO':2}"
   ]
  },
  {
   "cell_type": "code",
   "execution_count": 74,
   "metadata": {},
   "outputs": [],
   "source": [
    "dif_list = []\n",
    "for i, x in enumerate(run_stats2.Where):\n",
    "    if x == 0:\n",
    "        dif_list.append(dif_sta[run_stats2.Opp[i]]+32)\n",
    "    else:\n",
    "        dif_list.append(change_rank(dif_sta[run_stats2.Tm[i]]))\n",
    "run_stats2['Stad_Diff'] = dif_list"
   ]
  },
  {
   "cell_type": "code",
   "execution_count": 84,
   "metadata": {},
   "outputs": [
    {
     "data": {
      "text/plain": [
       "Index(['index', 'Rk', 'Player', 'Pos', 'Age', 'Date', 'Lg', 'Tm', 'Where',\n",
       "       'Opp', 'Result', 'G#', 'Week', 'Day', 'Att', 'Yds', 'Y/A', 'TD',\n",
       "       'Points_Team', 'Points_Opp', 'Stad_Diff'],\n",
       "      dtype='object')"
      ]
     },
     "execution_count": 84,
     "metadata": {},
     "output_type": "execute_result"
    }
   ],
   "source": [
    "run_stats2.columns"
   ]
  },
  {
   "cell_type": "code",
   "execution_count": 90,
   "metadata": {},
   "outputs": [],
   "source": [
    "run_stats3 = run_stats2.drop(['index', 'Lg', 'Tm', 'G#', 'Rk', 'Pos', 'Age'], axis=1)"
   ]
  },
  {
   "cell_type": "code",
   "execution_count": 91,
   "metadata": {},
   "outputs": [],
   "source": [
    "run_stats3['Date'] = [x.month for x in run_stats3.Date]"
   ]
  },
  {
   "cell_type": "code",
   "execution_count": 93,
   "metadata": {},
   "outputs": [],
   "source": [
    "run_stats3['Date'] = run_stats3['Date'].map({9:'September', 10:'October', 11:'November', 12:'December'})"
   ]
  },
  {
   "cell_type": "code",
   "execution_count": 96,
   "metadata": {},
   "outputs": [],
   "source": [
    "run_stats3['Points_Team'] = pd.to_numeric(run_stats3.Points_Team, errors='coerce')\n",
    "run_stats3['Points_Opp'] = pd.to_numeric(run_stats3.Points_Opp, errors='coerce')"
   ]
  },
  {
   "cell_type": "code",
   "execution_count": 98,
   "metadata": {},
   "outputs": [],
   "source": [
    "run_stats3['Result'] = run_stats3.Result.map({'W':1, 'L':0, 'T':2})"
   ]
  },
  {
   "cell_type": "code",
   "execution_count": 103,
   "metadata": {},
   "outputs": [],
   "source": [
    "dif_run_def = {'TAM':9, 'GNB':11, 'NOR':31, 'KAN':6, 'BAL':29, 'WAS':16, 'NYJ':7, 'CIN':4, 'LAC':24, 'NWE':22, 'LAR':10,\n",
    "           'MIN':18, 'IND':25, 'SEA':20, 'MIA':2, 'DEN':12, 'CAR':21, 'DAL':28, 'CHI':32, 'NYG':13, 'JAX':14, 'HOU':30,\n",
    "           'OAK':3, 'PIT':27, 'ARI':1, 'ATL':8, 'BUF':17, 'CLE':5, 'PHI':26, 'DET':23, 'TEN':15, 'SFO':19}"
   ]
  },
  {
   "cell_type": "code",
   "execution_count": 104,
   "metadata": {},
   "outputs": [],
   "source": [
    "run_stats3['Opp'] = run_stats3['Opp'].map(dif_run_def)"
   ]
  },
  {
   "cell_type": "code",
   "execution_count": 106,
   "metadata": {},
   "outputs": [],
   "source": [
    "run_stats4 = run_stats3.set_index(['Week', 'Player'])"
   ]
  },
  {
   "cell_type": "code",
   "execution_count": 108,
   "metadata": {},
   "outputs": [],
   "source": [
    "run_stats5 = pd.get_dummies(run_stats4)"
   ]
  },
  {
   "cell_type": "code",
   "execution_count": 111,
   "metadata": {},
   "outputs": [],
   "source": [
    "corr_run = run_stats5.corr()"
   ]
  },
  {
   "cell_type": "code",
   "execution_count": 112,
   "metadata": {},
   "outputs": [
    {
     "data": {
      "text/plain": [
       "<matplotlib.axes._subplots.AxesSubplot at 0x1a18175ef0>"
      ]
     },
     "execution_count": 112,
     "metadata": {},
     "output_type": "execute_result"
    },
    {
     "data": {
      "image/png": "[encoded data removed]",
      "text/plain": [
       "<Figure size 1440x720 with 2 Axes>"
      ]
     },
     "metadata": {
      "needs_background": "light"
     },
     "output_type": "display_data"
    }
   ],
   "source": [
    "import matplotlib.pyplot as plt\n",
    "plt.figure(figsize=(20,10))\n",
    "sns.heatmap(corr_run, \n",
    "        xticklabels=corr_run.columns,\n",
    "        yticklabels=corr_run.columns)"
   ]
  },
  {
   "cell_type": "code",
   "execution_count": 113,
   "metadata": {},
   "outputs": [
    {
     "data": {
      "text/html": [
       "<div>\n",
       "<style scoped>\n",
       "    .dataframe tbody tr th:only-of-type {\n",
       "        vertical-align: middle;\n",
       "    }\n",
       "\n",
       "    .dataframe tbody tr th {\n",
       "        vertical-align: top;\n",
       "    }\n",
       "\n",
       "    .dataframe thead th {\n",
       "        text-align: right;\n",
       "    }\n",
       "</style>\n",
       "<table border=\"1\" class=\"dataframe\">\n",
       "  <thead>\n",
       "    <tr style=\"text-align: right;\">\n",
       "      <th></th>\n",
       "      <th>Where</th>\n",
       "      <th>Opp</th>\n",
       "      <th>Result</th>\n",
       "      <th>Att</th>\n",
       "      <th>Yds</th>\n",
       "      <th>Y/A</th>\n",
       "      <th>TD</th>\n",
       "      <th>Points_Team</th>\n",
       "      <th>Points_Opp</th>\n",
       "      <th>Stad_Diff</th>\n",
       "      <th>Date_December</th>\n",
       "      <th>Date_November</th>\n",
       "      <th>Date_October</th>\n",
       "      <th>Date_September</th>\n",
       "      <th>Day_Mon</th>\n",
       "      <th>Day_Sat</th>\n",
       "      <th>Day_Sun</th>\n",
       "      <th>Day_Thu</th>\n",
       "    </tr>\n",
       "  </thead>\n",
       "  <tbody>\n",
       "    <tr>\n",
       "      <th>Where</th>\n",
       "      <td>1.000000</td>\n",
       "      <td>0.019971</td>\n",
       "      <td>0.212272</td>\n",
       "      <td>0.016289</td>\n",
       "      <td>0.010506</td>\n",
       "      <td>-0.016821</td>\n",
       "      <td>0.031206</td>\n",
       "      <td>0.112461</td>\n",
       "      <td>-0.117187</td>\n",
       "      <td>-0.860341</td>\n",
       "      <td>0.003792</td>\n",
       "      <td>0.036876</td>\n",
       "      <td>-0.021523</td>\n",
       "      <td>-0.018076</td>\n",
       "      <td>0.026115</td>\n",
       "      <td>-0.026391</td>\n",
       "      <td>-0.019183</td>\n",
       "      <td>0.013364</td>\n",
       "    </tr>\n",
       "    <tr>\n",
       "      <th>Opp</th>\n",
       "      <td>0.019971</td>\n",
       "      <td>1.000000</td>\n",
       "      <td>-0.174676</td>\n",
       "      <td>-0.071164</td>\n",
       "      <td>-0.159381</td>\n",
       "      <td>-0.150126</td>\n",
       "      <td>-0.096179</td>\n",
       "      <td>-0.222298</td>\n",
       "      <td>0.124849</td>\n",
       "      <td>0.074080</td>\n",
       "      <td>-0.035303</td>\n",
       "      <td>0.018503</td>\n",
       "      <td>-0.018996</td>\n",
       "      <td>0.038320</td>\n",
       "      <td>0.023327</td>\n",
       "      <td>0.041828</td>\n",
       "      <td>-0.038170</td>\n",
       "      <td>0.010796</td>\n",
       "    </tr>\n",
       "    <tr>\n",
       "      <th>Result</th>\n",
       "      <td>0.212272</td>\n",
       "      <td>-0.174676</td>\n",
       "      <td>1.000000</td>\n",
       "      <td>0.176685</td>\n",
       "      <td>0.168494</td>\n",
       "      <td>0.015463</td>\n",
       "      <td>0.161339</td>\n",
       "      <td>0.511336</td>\n",
       "      <td>-0.534497</td>\n",
       "      <td>-0.258674</td>\n",
       "      <td>0.011667</td>\n",
       "      <td>-0.017092</td>\n",
       "      <td>-0.040958</td>\n",
       "      <td>0.042807</td>\n",
       "      <td>-0.004790</td>\n",
       "      <td>-0.020399</td>\n",
       "      <td>0.000726</td>\n",
       "      <td>0.014084</td>\n",
       "    </tr>\n",
       "    <tr>\n",
       "      <th>Att</th>\n",
       "      <td>0.016289</td>\n",
       "      <td>-0.071164</td>\n",
       "      <td>0.176685</td>\n",
       "      <td>1.000000</td>\n",
       "      <td>0.757119</td>\n",
       "      <td>-0.149023</td>\n",
       "      <td>0.398036</td>\n",
       "      <td>0.105822</td>\n",
       "      <td>-0.101949</td>\n",
       "      <td>-0.023729</td>\n",
       "      <td>0.012301</td>\n",
       "      <td>0.026265</td>\n",
       "      <td>0.024940</td>\n",
       "      <td>-0.061584</td>\n",
       "      <td>-0.045871</td>\n",
       "      <td>0.024388</td>\n",
       "      <td>0.013025</td>\n",
       "      <td>0.017823</td>\n",
       "    </tr>\n",
       "    <tr>\n",
       "      <th>Yds</th>\n",
       "      <td>0.010506</td>\n",
       "      <td>-0.159381</td>\n",
       "      <td>0.168494</td>\n",
       "      <td>0.757119</td>\n",
       "      <td>1.000000</td>\n",
       "      <td>0.431456</td>\n",
       "      <td>0.428113</td>\n",
       "      <td>0.172439</td>\n",
       "      <td>-0.073352</td>\n",
       "      <td>-0.017354</td>\n",
       "      <td>0.022054</td>\n",
       "      <td>0.040575</td>\n",
       "      <td>0.027732</td>\n",
       "      <td>-0.088059</td>\n",
       "      <td>-0.028220</td>\n",
       "      <td>-0.002916</td>\n",
       "      <td>0.013124</td>\n",
       "      <td>0.012240</td>\n",
       "    </tr>\n",
       "    <tr>\n",
       "      <th>Y/A</th>\n",
       "      <td>-0.016821</td>\n",
       "      <td>-0.150126</td>\n",
       "      <td>0.015463</td>\n",
       "      <td>-0.149023</td>\n",
       "      <td>0.431456</td>\n",
       "      <td>1.000000</td>\n",
       "      <td>0.101259</td>\n",
       "      <td>0.115616</td>\n",
       "      <td>0.029162</td>\n",
       "      <td>0.021325</td>\n",
       "      <td>0.020160</td>\n",
       "      <td>0.000869</td>\n",
       "      <td>-0.003973</td>\n",
       "      <td>-0.018448</td>\n",
       "      <td>0.008428</td>\n",
       "      <td>-0.021796</td>\n",
       "      <td>0.014162</td>\n",
       "      <td>-0.019178</td>\n",
       "    </tr>\n",
       "    <tr>\n",
       "      <th>TD</th>\n",
       "      <td>0.031206</td>\n",
       "      <td>-0.096179</td>\n",
       "      <td>0.161339</td>\n",
       "      <td>0.398036</td>\n",
       "      <td>0.428113</td>\n",
       "      <td>0.101259</td>\n",
       "      <td>1.000000</td>\n",
       "      <td>0.250672</td>\n",
       "      <td>-0.057060</td>\n",
       "      <td>-0.063264</td>\n",
       "      <td>0.005355</td>\n",
       "      <td>0.034978</td>\n",
       "      <td>0.008454</td>\n",
       "      <td>-0.046618</td>\n",
       "      <td>-0.007839</td>\n",
       "      <td>-0.029111</td>\n",
       "      <td>-0.019690</td>\n",
       "      <td>0.051745</td>\n",
       "    </tr>\n",
       "    <tr>\n",
       "      <th>Points_Team</th>\n",
       "      <td>0.112461</td>\n",
       "      <td>-0.222298</td>\n",
       "      <td>0.511336</td>\n",
       "      <td>0.105822</td>\n",
       "      <td>0.172439</td>\n",
       "      <td>0.115616</td>\n",
       "      <td>0.250672</td>\n",
       "      <td>1.000000</td>\n",
       "      <td>-0.011446</td>\n",
       "      <td>-0.182859</td>\n",
       "      <td>-0.096859</td>\n",
       "      <td>0.061905</td>\n",
       "      <td>0.022820</td>\n",
       "      <td>0.023023</td>\n",
       "      <td>0.038826</td>\n",
       "      <td>-0.051180</td>\n",
       "      <td>-0.037322</td>\n",
       "      <td>0.038728</td>\n",
       "    </tr>\n",
       "    <tr>\n",
       "      <th>Points_Opp</th>\n",
       "      <td>-0.117187</td>\n",
       "      <td>0.124849</td>\n",
       "      <td>-0.534497</td>\n",
       "      <td>-0.101949</td>\n",
       "      <td>-0.073352</td>\n",
       "      <td>0.029162</td>\n",
       "      <td>-0.057060</td>\n",
       "      <td>-0.011446</td>\n",
       "      <td>1.000000</td>\n",
       "      <td>0.174083</td>\n",
       "      <td>-0.125941</td>\n",
       "      <td>0.039083</td>\n",
       "      <td>0.065892</td>\n",
       "      <td>0.034182</td>\n",
       "      <td>0.036420</td>\n",
       "      <td>-0.026605</td>\n",
       "      <td>-0.024402</td>\n",
       "      <td>0.010152</td>\n",
       "    </tr>\n",
       "    <tr>\n",
       "      <th>Stad_Diff</th>\n",
       "      <td>-0.860341</td>\n",
       "      <td>0.074080</td>\n",
       "      <td>-0.258674</td>\n",
       "      <td>-0.023729</td>\n",
       "      <td>-0.017354</td>\n",
       "      <td>0.021325</td>\n",
       "      <td>-0.063264</td>\n",
       "      <td>-0.182859</td>\n",
       "      <td>0.174083</td>\n",
       "      <td>1.000000</td>\n",
       "      <td>-0.001350</td>\n",
       "      <td>-0.035756</td>\n",
       "      <td>0.012472</td>\n",
       "      <td>0.023082</td>\n",
       "      <td>-0.030233</td>\n",
       "      <td>0.030208</td>\n",
       "      <td>0.020510</td>\n",
       "      <td>-0.012798</td>\n",
       "    </tr>\n",
       "    <tr>\n",
       "      <th>Date_December</th>\n",
       "      <td>0.003792</td>\n",
       "      <td>-0.035303</td>\n",
       "      <td>0.011667</td>\n",
       "      <td>0.012301</td>\n",
       "      <td>0.022054</td>\n",
       "      <td>0.020160</td>\n",
       "      <td>0.005355</td>\n",
       "      <td>-0.096859</td>\n",
       "      <td>-0.125941</td>\n",
       "      <td>-0.001350</td>\n",
       "      <td>1.000000</td>\n",
       "      <td>-0.348373</td>\n",
       "      <td>-0.359782</td>\n",
       "      <td>-0.391950</td>\n",
       "      <td>-0.033678</td>\n",
       "      <td>0.175582</td>\n",
       "      <td>0.034955</td>\n",
       "      <td>-0.101936</td>\n",
       "    </tr>\n",
       "    <tr>\n",
       "      <th>Date_November</th>\n",
       "      <td>0.036876</td>\n",
       "      <td>0.018503</td>\n",
       "      <td>-0.017092</td>\n",
       "      <td>0.026265</td>\n",
       "      <td>0.040575</td>\n",
       "      <td>0.000869</td>\n",
       "      <td>0.034978</td>\n",
       "      <td>0.061905</td>\n",
       "      <td>0.039083</td>\n",
       "      <td>-0.035756</td>\n",
       "      <td>-0.348373</td>\n",
       "      <td>1.000000</td>\n",
       "      <td>-0.277956</td>\n",
       "      <td>-0.302808</td>\n",
       "      <td>0.000841</td>\n",
       "      <td>-0.061168</td>\n",
       "      <td>-0.071369</td>\n",
       "      <td>0.134470</td>\n",
       "    </tr>\n",
       "    <tr>\n",
       "      <th>Date_October</th>\n",
       "      <td>-0.021523</td>\n",
       "      <td>-0.018996</td>\n",
       "      <td>-0.040958</td>\n",
       "      <td>0.024940</td>\n",
       "      <td>0.027732</td>\n",
       "      <td>-0.003973</td>\n",
       "      <td>0.008454</td>\n",
       "      <td>0.022820</td>\n",
       "      <td>0.065892</td>\n",
       "      <td>0.012472</td>\n",
       "      <td>-0.359782</td>\n",
       "      <td>-0.277956</td>\n",
       "      <td>1.000000</td>\n",
       "      <td>-0.312725</td>\n",
       "      <td>0.037125</td>\n",
       "      <td>-0.063171</td>\n",
       "      <td>-0.002705</td>\n",
       "      <td>-0.004619</td>\n",
       "    </tr>\n",
       "    <tr>\n",
       "      <th>Date_September</th>\n",
       "      <td>-0.018076</td>\n",
       "      <td>0.038320</td>\n",
       "      <td>0.042807</td>\n",
       "      <td>-0.061584</td>\n",
       "      <td>-0.088059</td>\n",
       "      <td>-0.018448</td>\n",
       "      <td>-0.046618</td>\n",
       "      <td>0.023023</td>\n",
       "      <td>0.034182</td>\n",
       "      <td>0.023082</td>\n",
       "      <td>-0.391950</td>\n",
       "      <td>-0.302808</td>\n",
       "      <td>-0.312725</td>\n",
       "      <td>1.000000</td>\n",
       "      <td>-0.000486</td>\n",
       "      <td>-0.068820</td>\n",
       "      <td>0.032437</td>\n",
       "      <td>-0.013476</td>\n",
       "    </tr>\n",
       "    <tr>\n",
       "      <th>Day_Mon</th>\n",
       "      <td>0.026115</td>\n",
       "      <td>0.023327</td>\n",
       "      <td>-0.004790</td>\n",
       "      <td>-0.045871</td>\n",
       "      <td>-0.028220</td>\n",
       "      <td>0.008428</td>\n",
       "      <td>-0.007839</td>\n",
       "      <td>0.038826</td>\n",
       "      <td>0.036420</td>\n",
       "      <td>-0.030233</td>\n",
       "      <td>-0.033678</td>\n",
       "      <td>0.000841</td>\n",
       "      <td>0.037125</td>\n",
       "      <td>-0.000486</td>\n",
       "      <td>1.000000</td>\n",
       "      <td>-0.031987</td>\n",
       "      <td>-0.667745</td>\n",
       "      <td>-0.068186</td>\n",
       "    </tr>\n",
       "    <tr>\n",
       "      <th>Day_Sat</th>\n",
       "      <td>-0.026391</td>\n",
       "      <td>0.041828</td>\n",
       "      <td>-0.020399</td>\n",
       "      <td>0.024388</td>\n",
       "      <td>-0.002916</td>\n",
       "      <td>-0.021796</td>\n",
       "      <td>-0.029111</td>\n",
       "      <td>-0.051180</td>\n",
       "      <td>-0.026605</td>\n",
       "      <td>0.030208</td>\n",
       "      <td>0.175582</td>\n",
       "      <td>-0.061168</td>\n",
       "      <td>-0.063171</td>\n",
       "      <td>-0.068820</td>\n",
       "      <td>-0.031987</td>\n",
       "      <td>1.000000</td>\n",
       "      <td>-0.290203</td>\n",
       "      <td>-0.029634</td>\n",
       "    </tr>\n",
       "    <tr>\n",
       "      <th>Day_Sun</th>\n",
       "      <td>-0.019183</td>\n",
       "      <td>-0.038170</td>\n",
       "      <td>0.000726</td>\n",
       "      <td>0.013025</td>\n",
       "      <td>0.013124</td>\n",
       "      <td>0.014162</td>\n",
       "      <td>-0.019690</td>\n",
       "      <td>-0.037322</td>\n",
       "      <td>-0.024402</td>\n",
       "      <td>0.020510</td>\n",
       "      <td>0.034955</td>\n",
       "      <td>-0.071369</td>\n",
       "      <td>-0.002705</td>\n",
       "      <td>0.032437</td>\n",
       "      <td>-0.667745</td>\n",
       "      <td>-0.290203</td>\n",
       "      <td>1.000000</td>\n",
       "      <td>-0.618609</td>\n",
       "    </tr>\n",
       "    <tr>\n",
       "      <th>Day_Thu</th>\n",
       "      <td>0.013364</td>\n",
       "      <td>0.010796</td>\n",
       "      <td>0.014084</td>\n",
       "      <td>0.017823</td>\n",
       "      <td>0.012240</td>\n",
       "      <td>-0.019178</td>\n",
       "      <td>0.051745</td>\n",
       "      <td>0.038728</td>\n",
       "      <td>0.010152</td>\n",
       "      <td>-0.012798</td>\n",
       "      <td>-0.101936</td>\n",
       "      <td>0.134470</td>\n",
       "      <td>-0.004619</td>\n",
       "      <td>-0.013476</td>\n",
       "      <td>-0.068186</td>\n",
       "      <td>-0.029634</td>\n",
       "      <td>-0.618609</td>\n",
       "      <td>1.000000</td>\n",
       "    </tr>\n",
       "  </tbody>\n",
       "</table>\n",
       "</div>"
      ],
      "text/plain": [
       "                   Where       Opp    Result       Att       Yds       Y/A  \\\n",
       "Where           1.000000  0.019971  0.212272  0.016289  0.010506 -0.016821   \n",
       "Opp             0.019971  1.000000 -0.174676 -0.071164 -0.159381 -0.150126   \n",
       "Result          0.212272 -0.174676  1.000000  0.176685  0.168494  0.015463   \n",
       "Att             0.016289 -0.071164  0.176685  1.000000  0.757119 -0.149023   \n",
       "Yds             0.010506 -0.159381  0.168494  0.757119  1.000000  0.431456   \n",
       "Y/A            -0.016821 -0.150126  0.015463 -0.149023  0.431456  1.000000   \n",
       "TD              0.031206 -0.096179  0.161339  0.398036  0.428113  0.101259   \n",
       "Points_Team     0.112461 -0.222298  0.511336  0.105822  0.172439  0.115616   \n",
       "Points_Opp     -0.117187  0.124849 -0.534497 -0.101949 -0.073352  0.029162   \n",
       "Stad_Diff      -0.860341  0.074080 -0.258674 -0.023729 -0.017354  0.021325   \n",
       "Date_December   0.003792 -0.035303  0.011667  0.012301  0.022054  0.020160   \n",
       "Date_November   0.036876  0.018503 -0.017092  0.026265  0.040575  0.000869   \n",
       "Date_October   -0.021523 -0.018996 -0.040958  0.024940  0.027732 -0.003973   \n",
       "Date_September -0.018076  0.038320  0.042807 -0.061584 -0.088059 -0.018448   \n",
       "Day_Mon         0.026115  0.023327 -0.004790 -0.045871 -0.028220  0.008428   \n",
       "Day_Sat        -0.026391  0.041828 -0.020399  0.024388 -0.002916 -0.021796   \n",
       "Day_Sun        -0.019183 -0.038170  0.000726  0.013025  0.013124  0.014162   \n",
       "Day_Thu         0.013364  0.010796  0.014084  0.017823  0.012240 -0.019178   \n",
       "\n",
       "                      TD  Points_Team  Points_Opp  Stad_Diff  Date_December  \\\n",
       "Where           0.031206     0.112461   -0.117187  -0.860341       0.003792   \n",
       "Opp            -0.096179    -0.222298    0.124849   0.074080      -0.035303   \n",
       "Result          0.161339     0.511336   -0.534497  -0.258674       0.011667   \n",
       "Att             0.398036     0.105822   -0.101949  -0.023729       0.012301   \n",
       "Yds             0.428113     0.172439   -0.073352  -0.017354       0.022054   \n",
       "Y/A             0.101259     0.115616    0.029162   0.021325       0.020160   \n",
       "TD              1.000000     0.250672   -0.057060  -0.063264       0.005355   \n",
       "Points_Team     0.250672     1.000000   -0.011446  -0.182859      -0.096859   \n",
       "Points_Opp     -0.057060    -0.011446    1.000000   0.174083      -0.125941   \n",
       "Stad_Diff      -0.063264    -0.182859    0.174083   1.000000      -0.001350   \n",
       "Date_December   0.005355    -0.096859   -0.125941  -0.001350       1.000000   \n",
       "Date_November   0.034978     0.061905    0.039083  -0.035756      -0.348373   \n",
       "Date_October    0.008454     0.022820    0.065892   0.012472      -0.359782   \n",
       "Date_September -0.046618     0.023023    0.034182   0.023082      -0.391950   \n",
       "Day_Mon        -0.007839     0.038826    0.036420  -0.030233      -0.033678   \n",
       "Day_Sat        -0.029111    -0.051180   -0.026605   0.030208       0.175582   \n",
       "Day_Sun        -0.019690    -0.037322   -0.024402   0.020510       0.034955   \n",
       "Day_Thu         0.051745     0.038728    0.010152  -0.012798      -0.101936   \n",
       "\n",
       "                Date_November  Date_October  Date_September   Day_Mon  \\\n",
       "Where                0.036876     -0.021523       -0.018076  0.026115   \n",
       "Opp                  0.018503     -0.018996        0.038320  0.023327   \n",
       "Result              -0.017092     -0.040958        0.042807 -0.004790   \n",
       "Att                  0.026265      0.024940       -0.061584 -0.045871   \n",
       "Yds                  0.040575      0.027732       -0.088059 -0.028220   \n",
       "Y/A                  0.000869     -0.003973       -0.018448  0.008428   \n",
       "TD                   0.034978      0.008454       -0.046618 -0.007839   \n",
       "Points_Team          0.061905      0.022820        0.023023  0.038826   \n",
       "Points_Opp           0.039083      0.065892        0.034182  0.036420   \n",
       "Stad_Diff           -0.035756      0.012472        0.023082 -0.030233   \n",
       "Date_December       -0.348373     -0.359782       -0.391950 -0.033678   \n",
       "Date_November        1.000000     -0.277956       -0.302808  0.000841   \n",
       "Date_October        -0.277956      1.000000       -0.312725  0.037125   \n",
       "Date_September      -0.302808     -0.312725        1.000000 -0.000486   \n",
       "Day_Mon              0.000841      0.037125       -0.000486  1.000000   \n",
       "Day_Sat             -0.061168     -0.063171       -0.068820 -0.031987   \n",
       "Day_Sun             -0.071369     -0.002705        0.032437 -0.667745   \n",
       "Day_Thu              0.134470     -0.004619       -0.013476 -0.068186   \n",
       "\n",
       "                 Day_Sat   Day_Sun   Day_Thu  \n",
       "Where          -0.026391 -0.019183  0.013364  \n",
       "Opp             0.041828 -0.038170  0.010796  \n",
       "Result         -0.020399  0.000726  0.014084  \n",
       "Att             0.024388  0.013025  0.017823  \n",
       "Yds            -0.002916  0.013124  0.012240  \n",
       "Y/A            -0.021796  0.014162 -0.019178  \n",
       "TD             -0.029111 -0.019690  0.051745  \n",
       "Points_Team    -0.051180 -0.037322  0.038728  \n",
       "Points_Opp     -0.026605 -0.024402  0.010152  \n",
       "Stad_Diff       0.030208  0.020510 -0.012798  \n",
       "Date_December   0.175582  0.034955 -0.101936  \n",
       "Date_November  -0.061168 -0.071369  0.134470  \n",
       "Date_October   -0.063171 -0.002705 -0.004619  \n",
       "Date_September -0.068820  0.032437 -0.013476  \n",
       "Day_Mon        -0.031987 -0.667745 -0.068186  \n",
       "Day_Sat         1.000000 -0.290203 -0.029634  \n",
       "Day_Sun        -0.290203  1.000000 -0.618609  \n",
       "Day_Thu        -0.029634 -0.618609  1.000000  "
      ]
     },
     "execution_count": 113,
     "metadata": {},
     "output_type": "execute_result"
    }
   ],
   "source": [
    "corr_run"
   ]
  },
  {
   "cell_type": "code",
   "execution_count": 137,
   "metadata": {},
   "outputs": [],
   "source": [
    "run_stats6 = run_stats5.drop(['Result','Yds', 'Att', \n",
    "                   'Y/A', 'TD', 'Points_Opp'], axis=1)"
   ]
  },
  {
   "cell_type": "code",
   "execution_count": 117,
   "metadata": {},
   "outputs": [],
   "source": [
    "from sklearn.model_selection import train_test_split"
   ]
  },
  {
   "cell_type": "code",
   "execution_count": 138,
   "metadata": {},
   "outputs": [],
   "source": [
    "y = run_stats6.Points_Team\n",
    "X = run_stats6.drop('Points_Team', axis=1)"
   ]
  },
  {
   "cell_type": "code",
   "execution_count": 139,
   "metadata": {},
   "outputs": [],
   "source": [
    "X_train, X_test, y_train, y_test = train_test_split(X, y)"
   ]
  },
  {
   "cell_type": "code",
   "execution_count": 120,
   "metadata": {},
   "outputs": [],
   "source": [
    "from sklearn.linear_model import LinearRegression"
   ]
  },
  {
   "cell_type": "code",
   "execution_count": 140,
   "metadata": {},
   "outputs": [],
   "source": [
    "linreg = LinearRegression()\n",
    "linreg.fit(X_train, y_train)\n",
    "pred_run = linreg.predict(X_test)"
   ]
  },
  {
   "cell_type": "code",
   "execution_count": 123,
   "metadata": {},
   "outputs": [],
   "source": [
    "from sklearn.metrics import mean_squared_error, mean_absolute_error"
   ]
  },
  {
   "cell_type": "code",
   "execution_count": 141,
   "metadata": {},
   "outputs": [],
   "source": [
    "mse = mean_squared_error(y_test, pred_run)\n",
    "rmse = mse**(1/2)\n",
    "mae = mean_absolute_error(y_test, pred_run)"
   ]
  },
  {
   "cell_type": "code",
   "execution_count": 142,
   "metadata": {},
   "outputs": [
    {
     "name": "stdout",
     "output_type": "stream",
     "text": [
      "rmse:  9.865949942863535 \n",
      " mae: 7.886803306558807\n"
     ]
    }
   ],
   "source": [
    "print('rmse: ', rmse, '\\n', 'mae:', mae)"
   ]
  },
  {
   "cell_type": "code",
   "execution_count": null,
   "metadata": {},
   "outputs": [],
   "source": []
  }
 ],
 "metadata": {
  "kernelspec": {
   "display_name": "Python 3",
   "language": "python",
   "name": "python3"
  },
  "language_info": {
   "codemirror_mode": {
    "name": "ipython",
    "version": 3
   },
   "file_extension": ".py",
   "mimetype": "text/x-python",
   "name": "python",
   "nbconvert_exporter": "python",
   "pygments_lexer": "ipython3",
   "version": "3.7.3"
  }
 },
 "nbformat": 4,
 "nbformat_minor": 2
}
