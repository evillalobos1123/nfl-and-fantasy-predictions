{
 "cells": [
  {
   "cell_type": "code",
   "execution_count": 1,
   "metadata": {},
   "outputs": [],
   "source": [
    "import pandas as pd\n",
    "import numpy as np\n",
    "import re\n",
    "import seaborn as sns"
   ]
  },
  {
   "cell_type": "code",
   "execution_count": 37,
   "metadata": {},
   "outputs": [],
   "source": [
    "run_stats = pd.read_excel('../data/run/sportsref_rus1_18.xls')"
   ]
  },
  {
   "cell_type": "code",
   "execution_count": 38,
   "metadata": {},
   "outputs": [],
   "source": [
    "for x in range(1,12):\n",
    "    c = pd.read_excel(f'../data/run/sportsref_download ({x}).xls', skiprows=1)\n",
    "    run_stats = pd.concat([run_stats, c], ignore_index = True, sort=False)\n",
    "  "
   ]
  },
  {
   "cell_type": "code",
   "execution_count": 7,
   "metadata": {},
   "outputs": [
    {
     "data": {
      "text/plain": [
       "(1857, 17)"
      ]
     },
     "execution_count": 7,
     "metadata": {},
     "output_type": "execute_result"
    }
   ],
   "source": [
    "run_stats.shape"
   ]
  },
  {
   "cell_type": "code",
   "execution_count": 8,
   "metadata": {},
   "outputs": [
    {
     "data": {
      "text/plain": [
       "Index(['Rk', 'Player', 'Pos', 'Age', 'Date', 'Lg', 'Tm', 'Unnamed: 7', 'Opp',\n",
       "       'Result', 'G#', 'Week', 'Day', 'Att', 'Yds', 'Y/A', 'TD'],\n",
       "      dtype='object')"
      ]
     },
     "execution_count": 8,
     "metadata": {},
     "output_type": "execute_result"
    }
   ],
   "source": [
    "run_stats.columns"
   ]
  },
  {
   "cell_type": "code",
   "execution_count": 10,
   "metadata": {},
   "outputs": [
    {
     "data": {
      "text/plain": [
       "1"
      ]
     },
     "execution_count": 10,
     "metadata": {},
     "output_type": "execute_result"
    }
   ],
   "source": [
    "run_stats.Week.min()"
   ]
  },
  {
   "cell_type": "code",
   "execution_count": 11,
   "metadata": {},
   "outputs": [
    {
     "data": {
      "text/html": [
       "<div>\n",
       "<style scoped>\n",
       "    .dataframe tbody tr th:only-of-type {\n",
       "        vertical-align: middle;\n",
       "    }\n",
       "\n",
       "    .dataframe tbody tr th {\n",
       "        vertical-align: top;\n",
       "    }\n",
       "\n",
       "    .dataframe thead th {\n",
       "        text-align: right;\n",
       "    }\n",
       "</style>\n",
       "<table border=\"1\" class=\"dataframe\">\n",
       "  <thead>\n",
       "    <tr style=\"text-align: right;\">\n",
       "      <th></th>\n",
       "      <th>Rk</th>\n",
       "      <th>Player</th>\n",
       "      <th>Pos</th>\n",
       "      <th>Age</th>\n",
       "      <th>Date</th>\n",
       "      <th>Lg</th>\n",
       "      <th>Tm</th>\n",
       "      <th>Unnamed: 7</th>\n",
       "      <th>Opp</th>\n",
       "      <th>Result</th>\n",
       "      <th>G#</th>\n",
       "      <th>Week</th>\n",
       "      <th>Day</th>\n",
       "      <th>Att</th>\n",
       "      <th>Yds</th>\n",
       "      <th>Y/A</th>\n",
       "      <th>TD</th>\n",
       "    </tr>\n",
       "  </thead>\n",
       "  <tbody>\n",
       "    <tr>\n",
       "      <th>0</th>\n",
       "      <td>1</td>\n",
       "      <td>James Conner</td>\n",
       "      <td>RB</td>\n",
       "      <td>23.127</td>\n",
       "      <td>2018-09-09</td>\n",
       "      <td>NFL</td>\n",
       "      <td>PIT</td>\n",
       "      <td>@</td>\n",
       "      <td>CLE</td>\n",
       "      <td>T 21-21</td>\n",
       "      <td>1</td>\n",
       "      <td>1</td>\n",
       "      <td>Sun</td>\n",
       "      <td>31</td>\n",
       "      <td>135</td>\n",
       "      <td>4.35</td>\n",
       "      <td>2</td>\n",
       "    </tr>\n",
       "    <tr>\n",
       "      <th>1</th>\n",
       "      <td>2</td>\n",
       "      <td>Todd Gurley</td>\n",
       "      <td>RB</td>\n",
       "      <td>24.038</td>\n",
       "      <td>2018-09-10</td>\n",
       "      <td>NFL</td>\n",
       "      <td>LAR</td>\n",
       "      <td>@</td>\n",
       "      <td>OAK</td>\n",
       "      <td>W 33-13</td>\n",
       "      <td>1</td>\n",
       "      <td>1</td>\n",
       "      <td>Mon</td>\n",
       "      <td>20</td>\n",
       "      <td>108</td>\n",
       "      <td>5.40</td>\n",
       "      <td>0</td>\n",
       "    </tr>\n",
       "    <tr>\n",
       "      <th>2</th>\n",
       "      <td>3</td>\n",
       "      <td>Saquon Barkley</td>\n",
       "      <td>RB</td>\n",
       "      <td>21.212</td>\n",
       "      <td>2018-09-09</td>\n",
       "      <td>NFL</td>\n",
       "      <td>NYG</td>\n",
       "      <td>NaN</td>\n",
       "      <td>JAX</td>\n",
       "      <td>L 15-20</td>\n",
       "      <td>1</td>\n",
       "      <td>1</td>\n",
       "      <td>Sun</td>\n",
       "      <td>18</td>\n",
       "      <td>106</td>\n",
       "      <td>5.89</td>\n",
       "      <td>1</td>\n",
       "    </tr>\n",
       "    <tr>\n",
       "      <th>3</th>\n",
       "      <td>4</td>\n",
       "      <td>Isaiah Crowell</td>\n",
       "      <td>RB</td>\n",
       "      <td>25.245</td>\n",
       "      <td>2018-09-10</td>\n",
       "      <td>NFL</td>\n",
       "      <td>NYJ</td>\n",
       "      <td>@</td>\n",
       "      <td>DET</td>\n",
       "      <td>W 48-17</td>\n",
       "      <td>1</td>\n",
       "      <td>1</td>\n",
       "      <td>Mon</td>\n",
       "      <td>10</td>\n",
       "      <td>102</td>\n",
       "      <td>10.20</td>\n",
       "      <td>2</td>\n",
       "    </tr>\n",
       "    <tr>\n",
       "      <th>4</th>\n",
       "      <td>5</td>\n",
       "      <td>Lamar Miller</td>\n",
       "      <td>RB</td>\n",
       "      <td>27.137</td>\n",
       "      <td>2018-09-09</td>\n",
       "      <td>NFL</td>\n",
       "      <td>HOU</td>\n",
       "      <td>@</td>\n",
       "      <td>NWE</td>\n",
       "      <td>L 20-27</td>\n",
       "      <td>1</td>\n",
       "      <td>1</td>\n",
       "      <td>Sun</td>\n",
       "      <td>20</td>\n",
       "      <td>98</td>\n",
       "      <td>4.90</td>\n",
       "      <td>0</td>\n",
       "    </tr>\n",
       "  </tbody>\n",
       "</table>\n",
       "</div>"
      ],
      "text/plain": [
       "   Rk          Player Pos     Age       Date   Lg   Tm Unnamed: 7  Opp  \\\n",
       "0   1    James Conner  RB  23.127 2018-09-09  NFL  PIT          @  CLE   \n",
       "1   2     Todd Gurley  RB  24.038 2018-09-10  NFL  LAR          @  OAK   \n",
       "2   3  Saquon Barkley  RB  21.212 2018-09-09  NFL  NYG        NaN  JAX   \n",
       "3   4  Isaiah Crowell  RB  25.245 2018-09-10  NFL  NYJ          @  DET   \n",
       "4   5    Lamar Miller  RB  27.137 2018-09-09  NFL  HOU          @  NWE   \n",
       "\n",
       "    Result  G#  Week  Day  Att  Yds    Y/A  TD  \n",
       "0  T 21-21   1     1  Sun   31  135   4.35   2  \n",
       "1  W 33-13   1     1  Mon   20  108   5.40   0  \n",
       "2  L 15-20   1     1  Sun   18  106   5.89   1  \n",
       "3  W 48-17   1     1  Mon   10  102  10.20   2  \n",
       "4  L 20-27   1     1  Sun   20   98   4.90   0  "
      ]
     },
     "execution_count": 11,
     "metadata": {},
     "output_type": "execute_result"
    }
   ],
   "source": [
    "run_stats.head()"
   ]
  },
  {
   "cell_type": "code",
   "execution_count": 39,
   "metadata": {},
   "outputs": [],
   "source": [
    "run_stats = run_stats.rename({'Unnamed: 7': 'Where'}, axis=1) "
   ]
  },
  {
   "cell_type": "code",
   "execution_count": 40,
   "metadata": {},
   "outputs": [
    {
     "data": {
      "text/plain": [
       "array(['RB', 'HB', 'QB', 'WR', 'FB', 'P', 'TE', 'LCB', 'CB', 'DE', 'S',\n",
       "       'SS'], dtype=object)"
      ]
     },
     "execution_count": 40,
     "metadata": {},
     "output_type": "execute_result"
    }
   ],
   "source": [
    "run_stats.Pos.unique()"
   ]
  },
  {
   "cell_type": "code",
   "execution_count": 41,
   "metadata": {},
   "outputs": [],
   "source": [
    "run_stats = run_stats[(run_stats['Yds'] >= 10) & (run_stats['Att'] >= 3)]\n"
   ]
  },
  {
   "cell_type": "code",
   "execution_count": 42,
   "metadata": {},
   "outputs": [
    {
     "data": {
      "text/plain": [
       "array(['RB', 'HB', 'QB', 'WR', 'TE', 'FB'], dtype=object)"
      ]
     },
     "execution_count": 42,
     "metadata": {},
     "output_type": "execute_result"
    }
   ],
   "source": [
    "run_stats.Pos.unique()"
   ]
  },
  {
   "cell_type": "code",
   "execution_count": 43,
   "metadata": {},
   "outputs": [],
   "source": [
    "result = []\n",
    "points_home = []\n",
    "points_away = []\n",
    "for x in run_stats.Result:\n",
    "    result.append(x[0])\n",
    "    reg1 = re.findall(r'\\d*[^-]', x)\n",
    "    points_home.append(reg1[2])\n",
    "    points_away.append(reg1[3])"
   ]
  },
  {
   "cell_type": "code",
   "execution_count": 45,
   "metadata": {},
   "outputs": [],
   "source": [
    "run_stats['Result'] = result\n",
    "run_stats['Points_Team'] = points_home\n",
    "run_stats['Points_Opp'] = points_away"
   ]
  },
  {
   "cell_type": "code",
   "execution_count": 46,
   "metadata": {},
   "outputs": [
    {
     "data": {
      "text/html": [
       "<div>\n",
       "<style scoped>\n",
       "    .dataframe tbody tr th:only-of-type {\n",
       "        vertical-align: middle;\n",
       "    }\n",
       "\n",
       "    .dataframe tbody tr th {\n",
       "        vertical-align: top;\n",
       "    }\n",
       "\n",
       "    .dataframe thead th {\n",
       "        text-align: right;\n",
       "    }\n",
       "</style>\n",
       "<table border=\"1\" class=\"dataframe\">\n",
       "  <thead>\n",
       "    <tr style=\"text-align: right;\">\n",
       "      <th></th>\n",
       "      <th>Rk</th>\n",
       "      <th>Player</th>\n",
       "      <th>Pos</th>\n",
       "      <th>Age</th>\n",
       "      <th>Date</th>\n",
       "      <th>Lg</th>\n",
       "      <th>Tm</th>\n",
       "      <th>Where</th>\n",
       "      <th>Opp</th>\n",
       "      <th>Result</th>\n",
       "      <th>G#</th>\n",
       "      <th>Week</th>\n",
       "      <th>Day</th>\n",
       "      <th>Att</th>\n",
       "      <th>Yds</th>\n",
       "      <th>Y/A</th>\n",
       "      <th>TD</th>\n",
       "      <th>Points_Team</th>\n",
       "      <th>Points_Opp</th>\n",
       "    </tr>\n",
       "  </thead>\n",
       "  <tbody>\n",
       "    <tr>\n",
       "      <th>0</th>\n",
       "      <td>1</td>\n",
       "      <td>James Conner</td>\n",
       "      <td>RB</td>\n",
       "      <td>23.127</td>\n",
       "      <td>2018-09-09</td>\n",
       "      <td>NFL</td>\n",
       "      <td>PIT</td>\n",
       "      <td>@</td>\n",
       "      <td>CLE</td>\n",
       "      <td>T</td>\n",
       "      <td>1</td>\n",
       "      <td>1</td>\n",
       "      <td>Sun</td>\n",
       "      <td>31</td>\n",
       "      <td>135</td>\n",
       "      <td>4.35</td>\n",
       "      <td>2</td>\n",
       "      <td>21</td>\n",
       "      <td>21</td>\n",
       "    </tr>\n",
       "    <tr>\n",
       "      <th>1</th>\n",
       "      <td>2</td>\n",
       "      <td>Todd Gurley</td>\n",
       "      <td>RB</td>\n",
       "      <td>24.038</td>\n",
       "      <td>2018-09-10</td>\n",
       "      <td>NFL</td>\n",
       "      <td>LAR</td>\n",
       "      <td>@</td>\n",
       "      <td>OAK</td>\n",
       "      <td>W</td>\n",
       "      <td>1</td>\n",
       "      <td>1</td>\n",
       "      <td>Mon</td>\n",
       "      <td>20</td>\n",
       "      <td>108</td>\n",
       "      <td>5.40</td>\n",
       "      <td>0</td>\n",
       "      <td>33</td>\n",
       "      <td>13</td>\n",
       "    </tr>\n",
       "    <tr>\n",
       "      <th>2</th>\n",
       "      <td>3</td>\n",
       "      <td>Saquon Barkley</td>\n",
       "      <td>RB</td>\n",
       "      <td>21.212</td>\n",
       "      <td>2018-09-09</td>\n",
       "      <td>NFL</td>\n",
       "      <td>NYG</td>\n",
       "      <td>NaN</td>\n",
       "      <td>JAX</td>\n",
       "      <td>L</td>\n",
       "      <td>1</td>\n",
       "      <td>1</td>\n",
       "      <td>Sun</td>\n",
       "      <td>18</td>\n",
       "      <td>106</td>\n",
       "      <td>5.89</td>\n",
       "      <td>1</td>\n",
       "      <td>15</td>\n",
       "      <td>20</td>\n",
       "    </tr>\n",
       "    <tr>\n",
       "      <th>3</th>\n",
       "      <td>4</td>\n",
       "      <td>Isaiah Crowell</td>\n",
       "      <td>RB</td>\n",
       "      <td>25.245</td>\n",
       "      <td>2018-09-10</td>\n",
       "      <td>NFL</td>\n",
       "      <td>NYJ</td>\n",
       "      <td>@</td>\n",
       "      <td>DET</td>\n",
       "      <td>W</td>\n",
       "      <td>1</td>\n",
       "      <td>1</td>\n",
       "      <td>Mon</td>\n",
       "      <td>10</td>\n",
       "      <td>102</td>\n",
       "      <td>10.20</td>\n",
       "      <td>2</td>\n",
       "      <td>48</td>\n",
       "      <td>17</td>\n",
       "    </tr>\n",
       "    <tr>\n",
       "      <th>4</th>\n",
       "      <td>5</td>\n",
       "      <td>Lamar Miller</td>\n",
       "      <td>RB</td>\n",
       "      <td>27.137</td>\n",
       "      <td>2018-09-09</td>\n",
       "      <td>NFL</td>\n",
       "      <td>HOU</td>\n",
       "      <td>@</td>\n",
       "      <td>NWE</td>\n",
       "      <td>L</td>\n",
       "      <td>1</td>\n",
       "      <td>1</td>\n",
       "      <td>Sun</td>\n",
       "      <td>20</td>\n",
       "      <td>98</td>\n",
       "      <td>4.90</td>\n",
       "      <td>0</td>\n",
       "      <td>20</td>\n",
       "      <td>27</td>\n",
       "    </tr>\n",
       "  </tbody>\n",
       "</table>\n",
       "</div>"
      ],
      "text/plain": [
       "   Rk          Player Pos     Age       Date   Lg   Tm Where  Opp Result  G#  \\\n",
       "0   1    James Conner  RB  23.127 2018-09-09  NFL  PIT     @  CLE      T   1   \n",
       "1   2     Todd Gurley  RB  24.038 2018-09-10  NFL  LAR     @  OAK      W   1   \n",
       "2   3  Saquon Barkley  RB  21.212 2018-09-09  NFL  NYG   NaN  JAX      L   1   \n",
       "3   4  Isaiah Crowell  RB  25.245 2018-09-10  NFL  NYJ     @  DET      W   1   \n",
       "4   5    Lamar Miller  RB  27.137 2018-09-09  NFL  HOU     @  NWE      L   1   \n",
       "\n",
       "   Week  Day  Att  Yds    Y/A  TD Points_Team Points_Opp  \n",
       "0     1  Sun   31  135   4.35   2          21         21  \n",
       "1     1  Mon   20  108   5.40   0          33         13  \n",
       "2     1  Sun   18  106   5.89   1          15         20  \n",
       "3     1  Mon   10  102  10.20   2          48         17  \n",
       "4     1  Sun   20   98   4.90   0          20         27  "
      ]
     },
     "execution_count": 46,
     "metadata": {},
     "output_type": "execute_result"
    }
   ],
   "source": [
    "run_stats.head()"
   ]
  },
  {
   "cell_type": "code",
   "execution_count": null,
   "metadata": {},
   "outputs": [],
   "source": []
  }
 ],
 "metadata": {
  "kernelspec": {
   "display_name": "Python 3",
   "language": "python",
   "name": "python3"
  },
  "language_info": {
   "codemirror_mode": {
    "name": "ipython",
    "version": 3
   },
   "file_extension": ".py",
   "mimetype": "text/x-python",
   "name": "python",
   "nbconvert_exporter": "python",
   "pygments_lexer": "ipython3",
   "version": "3.7.3"
  }
 },
 "nbformat": 4,
 "nbformat_minor": 2
}
