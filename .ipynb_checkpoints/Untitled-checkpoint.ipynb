{
 "cells": [
  {
   "cell_type": "code",
   "execution_count": 28,
   "metadata": {},
   "outputs": [],
   "source": [
    "import pandas as pd\n",
    "import numpy as np\n",
    "import re\n",
    "import seaborn as sns"
   ]
  },
  {
   "cell_type": "code",
   "execution_count": 38,
   "metadata": {},
   "outputs": [],
   "source": [
    "from sklearn.model_selection import train_test_split\n",
    "from sklearn.linear_model import LinearRegression\n",
    "from sklearn.metrics import mean_squared_error, mean_absolute_error"
   ]
  },
  {
   "cell_type": "code",
   "execution_count": 29,
   "metadata": {},
   "outputs": [],
   "source": [
    "def change_rank(x):\n",
    "    return (-1*(x-32))+1"
   ]
  },
  {
   "cell_type": "code",
   "execution_count": 46,
   "metadata": {},
   "outputs": [],
   "source": [
    "def clean_stats_qb(run_stats, dic_def, dic_off):\n",
    "    run_stats = run_stats.rename({'Unnamed: 7': 'Where'}, axis=1)\n",
    "    run_stats = run_stats[(run_stats['Pos'] == 'QB') & (run_stats['Att'] >= 10)]\n",
    "    result = []\n",
    "    points_home = []\n",
    "    points_away = []\n",
    "    for x in run_stats.Result:\n",
    "        result.append(x[0])\n",
    "        reg1 = re.findall(r'\\d*[^-]', x)\n",
    "        points_home.append(reg1[2])\n",
    "        points_away.append(reg1[3])\n",
    "    run_stats['Result'] = result\n",
    "    run_stats['Points_Team'] = points_home\n",
    "    run_stats['Points_Opp'] = points_away\n",
    "    run_stats.Where.fillna('home', inplace=True)\n",
    "    run_stats2 = run_stats.reset_index(drop=True)\n",
    "    stadium = [] \n",
    "    for i, x in enumerate(run_stats2.Where):\n",
    "        if x == 'home':\n",
    "            stadium.append(1)\n",
    "        else:\n",
    "            stadium.append(0)\n",
    "    run_stats2['Where'] = stadium\n",
    "    dif_list = []\n",
    "    for i, x in enumerate(run_stats2.Where):\n",
    "        if x == 0:\n",
    "            dif_list.append(dif_sta[run_stats2.Opp[i]]+32)\n",
    "        else:\n",
    "            dif_list.append(change_rank(dif_sta[run_stats2.Tm[i]]))\n",
    "    run_stats2['Stad_Diff'] = dif_list\n",
    "    run_stats3 = run_stats2.drop(['Lg', 'G#', 'Rk', 'Pos', 'Age', 'Y/A', 'Yds.1', 'Rate', 'Cmp', 'AY/A'], axis=1)\n",
    "    run_stats3['Month'] = [x.month for x in run_stats3.Date]\n",
    "    run_stats3['Month'] = run_stats3['Date'].map({9:'September', 10:'October', 11:'November', 12:'December'})\n",
    "    run_stats3['Points_Team'] = pd.to_numeric(run_stats3.Points_Team, errors='coerce')\n",
    "    run_stats3['Points_Opp'] = pd.to_numeric(run_stats3.Points_Opp, errors='coerce')\n",
    "    run_stats3['Result'] = run_stats3.Result.map({'W':1, 'L':0, 'T':2})\n",
    "    run_stats3['Opp'] = run_stats3['Opp'].map(dic_def)\n",
    "    off = [change_rank(dic_off[x]) for x in run_stats3.Tm]\n",
    "    run_stats3['Tm'] = off\n",
    "    run_stats4 = run_stats3.set_index(['Date', 'Week', 'Player'])\n",
    "    run_stats5 = pd.get_dummies(run_stats4)\n",
    "    run_stats6 = run_stats5.drop(['Result', 'Points_Opp'], axis=1)\n",
    "    return run_stats6"
   ]
  },
  {
   "cell_type": "code",
   "execution_count": 47,
   "metadata": {},
   "outputs": [],
   "source": [
    "def clean_stats_qb19_w4(df1, w1):\n",
    "    w1['Date_October'] = [0 for x in range(len(w1))]\n",
    "    w1['Date_November'] = [0 for x in range(len(w1))]\n",
    "    w1['Date_December'] = [0 for x in range(len(w1))]\n",
    "    w1['Day_Sat'] = [0 for x in range(len(w1))]\n",
    "    w1 = w1[list(df1.columns)]\n",
    "    run = pd.concat([df1, w1], sort=False)\n",
    "    return run"
   ]
  },
  {
   "cell_type": "code",
   "execution_count": 48,
   "metadata": {},
   "outputs": [],
   "source": [
    "def clean_stats_rb(run_stats, dic_def):\n",
    "    run_stats = run_stats[(run_stats['Yds'] >= 10) & (run_stats['Att'] >= 3)]\n",
    "    run_stats = run_stats.rename({'Unnamed: 7': 'Where'}, axis=1) \n",
    "    result = []\n",
    "    points_home = []\n",
    "    points_away = []\n",
    "    for x in run_stats.Result:\n",
    "        result.append(x[0])\n",
    "        reg1 = re.findall(r'\\d*[^-]', x)\n",
    "        points_home.append(reg1[2])\n",
    "        points_away.append(reg1[3])\n",
    "    run_stats['Result'] = result\n",
    "    run_stats['Points_Team'] = points_home\n",
    "    run_stats['Points_Opp'] = points_away\n",
    "    run_stats.Where.fillna('home', inplace=True)\n",
    "    run_stats2 = run_stats.reset_index(drop=True)\n",
    "    stadium = [] \n",
    "    for i, x in enumerate(run_stats2.Where):\n",
    "        if x == 'home':\n",
    "            stadium.append(1)\n",
    "        else:\n",
    "            stadium.append(0)\n",
    "    run_stats2['Where'] = stadium\n",
    "    dif_list = []\n",
    "    for i, x in enumerate(run_stats2.Where):\n",
    "        if x == 0:\n",
    "            dif_list.append(dif_sta[run_stats2.Opp[i]]+32)\n",
    "        else:\n",
    "            dif_list.append(change_rank(dif_sta[run_stats2.Tm[i]]))\n",
    "    run_stats2['Stad_Diff'] = dif_list\n",
    "    run_stats3 = run_stats2.drop(['Lg', 'Tm', 'G#', 'Rk', 'Pos', 'Age', 'Att'], axis=1)\n",
    "    run_stats3['Month'] = [x.month for x in run_stats3.Date]\n",
    "    run_stats3['Month'] = run_stats3['Date'].map({9:'September', 10:'October', 11:'November', 12:'December'})\n",
    "    run_stats3['Points_Team'] = pd.to_numeric(run_stats3.Points_Team, errors='coerce')\n",
    "    run_stats3['Points_Opp'] = pd.to_numeric(run_stats3.Points_Opp, errors='coerce')\n",
    "    run_stats3['Result'] = run_stats3.Result.map({'W':1, 'L':0, 'T':2})\n",
    "    run_stats3['Opp'] = run_stats3['Opp'].map(dic_def)\n",
    "    run_stats4 = run_stats3.set_index(['Date', 'Week', 'Player'])\n",
    "    run_stats5 = pd.get_dummies(run_stats4)\n",
    "    run_stats6 = run_stats5.drop(['Result', 'Points_Opp'], axis=1)\n",
    "    return run_stats6"
   ]
  },
  {
   "cell_type": "code",
   "execution_count": 49,
   "metadata": {},
   "outputs": [],
   "source": [
    "def clean_stats_wr(run_stats, dic_def):\n",
    "    run_stats = run_stats.rename({'Unnamed: 7': 'Where'}, axis=1)\n",
    "    run_stats = run_stats[run_stats.Tgt >= 3]\n",
    "    result = []\n",
    "    points_home = []\n",
    "    points_away = []\n",
    "    for x in run_stats.Result:\n",
    "        result.append(x[0])\n",
    "        reg1 = re.findall(r'\\d*[^-]', x)\n",
    "        points_home.append(reg1[2])\n",
    "        points_away.append(reg1[3])\n",
    "    run_stats['Result'] = result\n",
    "    run_stats['Points_Team'] = points_home\n",
    "    run_stats['Points_Opp'] = points_away\n",
    "    run_stats.Where.fillna('home', inplace=True)\n",
    "    run_stats2 = run_stats.reset_index(drop=True)\n",
    "    stadium = [] \n",
    "    for i, x in enumerate(run_stats2.Where):\n",
    "        if x == 'home':\n",
    "            stadium.append(1)\n",
    "        else:\n",
    "            stadium.append(0)\n",
    "    run_stats2['Where'] = stadium\n",
    "    dif_list = []\n",
    "    for i, x in enumerate(run_stats2.Where):\n",
    "        if x == 0:\n",
    "            dif_list.append(dif_sta[run_stats2.Opp[i]]+32)\n",
    "        else:\n",
    "            dif_list.append(change_rank(dif_sta[run_stats2.Tm[i]]))\n",
    "    run_stats2['Stad_Diff'] = dif_list\n",
    "    run_stats3 = run_stats2.drop(['Lg', 'Tm', 'G#', 'Rk', 'Pos', 'Age', 'Tgt', 'Y/R', 'Rec'], axis=1)\n",
    "    run_stats3['Month'] = [x.month for x in run_stats3.Date]\n",
    "    run_stats3['Month'] = run_stats3['Date'].map({9:'September', 10:'October', 11:'November', 12:'December'})\n",
    "    run_stats3['Points_Team'] = pd.to_numeric(run_stats3.Points_Team, errors='coerce')\n",
    "    run_stats3['Points_Opp'] = pd.to_numeric(run_stats3.Points_Opp, errors='coerce')\n",
    "    run_stats3['Result'] = run_stats3.Result.map({'W':1, 'L':0, 'T':2})\n",
    "    run_stats3['Opp'] = run_stats3['Opp'].map(dic_def)\n",
    "    run_stats4 = run_stats3.set_index(['Date', 'Week', 'Player'])\n",
    "    run_stats5 = pd.get_dummies(run_stats4)\n",
    "    run_stats6 = run_stats5.drop(['Result', 'Points_Opp'], axis=1)\n",
    "    return run_stats6"
   ]
  },
  {
   "cell_type": "code",
   "execution_count": 50,
   "metadata": {},
   "outputs": [],
   "source": [
    "dif_sta = {'TAM':6, 'GNB':21, 'NOR':26, 'KAN':31, 'BAL':18, 'WAS':15, 'NYJ':4, 'CIN':16, 'LAC':13, 'NWE':32, 'LAR':22,\n",
    "           'MIN':29, 'IND':12, 'SEA':28, 'MIA':7, 'DEN':20, 'CAR':27, 'DAL':23, 'CHI':7, 'NYG':5, 'JAX':3, 'HOU':19,\n",
    "           'OAK':9, 'PIT':30, 'ARI':17, 'ATL':24, 'BUF':10, 'CLE':1, 'PHI':25, 'DET':14, 'TEN':11, 'SFO':2}"
   ]
  },
  {
   "cell_type": "code",
   "execution_count": 51,
   "metadata": {},
   "outputs": [],
   "source": [
    "dif_pass_def = {'TAM':7, 'GNB':21, 'NOR':4, 'KAN':2, 'BAL':28, 'WAS':18, 'NYJ':9, 'CIN':1, 'LAC':24, 'NWE':11, 'LAR':19,\n",
    "           'MIN':30, 'IND':17, 'SEA':16, 'MIA':12, 'DEN':13, 'CAR':15, 'DAL':20, 'CHI':26, 'NYG':10, 'JAX':31, 'HOU':5,\n",
    "           'OAK':14, 'PIT':23, 'ARI':29, 'ATL':6, 'BUF':1, 'CLE':8, 'PHI':3, 'DET':25, 'TEN':27, 'SFO':22}"
   ]
  },
  {
   "cell_type": "code",
   "execution_count": 52,
   "metadata": {},
   "outputs": [],
   "source": [
    "pass_off_18 = {'TAM':3, 'GNB':20, 'NOR':12, 'KAN':1, 'BAL':26, 'WAS':28, 'NYJ':26, 'CIN':16, 'LAC':8, 'NWE':11, 'LAR':8,\n",
    "           'MIN':10, 'IND':2, 'SEA':5, 'MIA':17, 'DEN':24, 'CAR':14, 'DAL':22, 'CHI':14, 'NYG':21, 'JAX':30, 'HOU':17,\n",
    "           'OAK':24, 'PIT':5, 'ARI':30, 'ATL':3, 'BUF':32, 'CLE':11, 'PHI':11, 'DET':22, 'TEN':28, 'SFO':17}"
   ]
  },
  {
   "cell_type": "code",
   "execution_count": 53,
   "metadata": {},
   "outputs": [],
   "source": [
    "dif_run_def_18 = {'TAM':9, 'GNB':11, 'NOR':31, 'KAN':6, 'BAL':29, 'WAS':16, 'NYJ':7, 'CIN':4, 'LAC':24, 'NWE':22, 'LAR':10,\n",
    "           'MIN':18, 'IND':25, 'SEA':20, 'MIA':2, 'DEN':12, 'CAR':21, 'DAL':28, 'CHI':32, 'NYG':13, 'JAX':14, 'HOU':30,\n",
    "           'OAK':3, 'PIT':27, 'ARI':1, 'ATL':8, 'BUF':17, 'CLE':5, 'PHI':26, 'DET':23, 'TEN':15, 'SFO':19}"
   ]
  },
  {
   "cell_type": "code",
   "execution_count": 54,
   "metadata": {},
   "outputs": [],
   "source": [
    "pass1 = pd.read_excel('../data/pass/sportsref_pass1_18.xls')\n",
    "for x in range(1,12):\n",
    "    c = pd.read_excel(f'../data/pass/sportsref_downloadp({x}).xls', skiprows=1)\n",
    "    pass1 = pd.concat([pass1, c], ignore_index = True, sort=False)\n",
    "pass_stats1 = clean_stats_qb(pass1, dif_pass_def, pass_off_18)    "
   ]
  },
  {
   "cell_type": "code",
   "execution_count": 55,
   "metadata": {},
   "outputs": [],
   "source": [
    "run1 = pd.read_excel('../data/run/sportsref_rus1_18.xls')\n",
    "for x in range(1,12):\n",
    "    b = pd.read_excel(f'../data/run/sportsref_download ({x}).xls')\n",
    "    run1 = pd.concat([run1, b], ignore_index=True, sort=False)\n",
    "run_stats1 = clean_stats_rb(run1, dif_run_def_18)"
   ]
  },
  {
   "cell_type": "code",
   "execution_count": 56,
   "metadata": {},
   "outputs": [],
   "source": [
    "rec1 = pd.read_excel('../data/rec/sportsref_rec1_18.xls')\n",
    "for x in range(1,23):\n",
    "    a = pd.read_excel(f'../data/rec/sportsref_download ({x}).xls')\n",
    "    rec1 = pd.concat([rec1, a], ignore_index=True, sort=False)\n",
    "rec_stats1 = clean_stats_wr(rec1, dif_pass_def)"
   ]
  },
  {
   "cell_type": "code",
   "execution_count": null,
   "metadata": {},
   "outputs": [],
   "source": []
  },
  {
   "cell_type": "code",
   "execution_count": 57,
   "metadata": {},
   "outputs": [],
   "source": [
    "def mae_linreg(passw1_mod):\n",
    "    y = passw1_mod.Points_Team\n",
    "    X = passw1_mod.drop('Points_Team', axis=1)\n",
    "    X_train, X_test, y_train, y_test = train_test_split(X, y)\n",
    "    linreg = LinearRegression()\n",
    "    linreg.fit(X_train, y_train)\n",
    "    pred_rec = linreg.predict(X_test)\n",
    "    mse = mean_squared_error(y_test, pred_rec)\n",
    "    rmse = mse**(1/2)\n",
    "    mae = mean_absolute_error(y_test, pred_rec)\n",
    "    print('rmse: ', rmse, '\\n', 'mae:', mae)"
   ]
  },
  {
   "cell_type": "code",
   "execution_count": 58,
   "metadata": {},
   "outputs": [
    {
     "name": "stdout",
     "output_type": "stream",
     "text": [
      "rmse:  6.810667499455879 \n",
      " mae: 5.318516580986383\n",
      "rmse:  9.23791221005646 \n",
      " mae: 7.375252687344441\n",
      "rmse:  9.480028028101422 \n",
      " mae: 7.5281510519342385\n"
     ]
    }
   ],
   "source": [
    "pas_mae = mae_linreg(pass_stats1)\n",
    "run_mae = mae_linreg(run_stats1)\n",
    "rec_mae = mae_linreg(rec_stats1)\n"
   ]
  },
  {
   "cell_type": "code",
   "execution_count": null,
   "metadata": {},
   "outputs": [],
   "source": []
  }
 ],
 "metadata": {
  "kernelspec": {
   "display_name": "Python 3",
   "language": "python",
   "name": "python3"
  },
  "language_info": {
   "codemirror_mode": {
    "name": "ipython",
    "version": 3
   },
   "file_extension": ".py",
   "mimetype": "text/x-python",
   "name": "python",
   "nbconvert_exporter": "python",
   "pygments_lexer": "ipython3",
   "version": "3.7.3"
  }
 },
 "nbformat": 4,
 "nbformat_minor": 2
}
