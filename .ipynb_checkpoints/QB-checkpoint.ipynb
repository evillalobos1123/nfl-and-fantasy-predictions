{
 "cells": [
  {
   "cell_type": "code",
   "execution_count": 1,
   "metadata": {},
   "outputs": [],
   "source": [
    "import pandas as pd\n",
    "import numpy as np\n",
    "import re\n",
    "import seaborn as sns"
   ]
  },
  {
   "cell_type": "code",
   "execution_count": 2,
   "metadata": {},
   "outputs": [],
   "source": [
    "dif_sta = {'TAM':6, 'GNB':21, 'NOR':26, 'KAN':31, 'BAL':18, 'WAS':15, 'NYJ':4, 'CIN':16, 'LAC':13, 'NWE':32, 'LAR':22,\n",
    "           'MIN':29, 'IND':12, 'SEA':28, 'MIA':7, 'DEN':20, 'CAR':27, 'DAL':23, 'CHI':7, 'NYG':5, 'JAX':3, 'HOU':19,\n",
    "           'OAK':9, 'PIT':30, 'ARI':17, 'ATL':24, 'BUF':10, 'CLE':1, 'PHI':25, 'DET':14, 'TEN':11, 'SFO':2}"
   ]
  },
  {
   "cell_type": "code",
   "execution_count": 3,
   "metadata": {},
   "outputs": [],
   "source": [
    "dif_pass_def = {'TAM':7, 'GNB':21, 'NOR':4, 'KAN':2, 'BAL':28, 'WAS':18, 'NYJ':9, 'CIN':1, 'LAC':24, 'NWE':11, 'LAR':19,\n",
    "           'MIN':30, 'IND':17, 'SEA':16, 'MIA':12, 'DEN':13, 'CAR':15, 'DAL':20, 'CHI':26, 'NYG':10, 'JAX':31, 'HOU':5,\n",
    "           'OAK':14, 'PIT':23, 'ARI':29, 'ATL':6, 'BUF':1, 'CLE':8, 'PHI':3, 'DET':25, 'TEN':27, 'SFO':22}"
   ]
  },
  {
   "cell_type": "code",
   "execution_count": 53,
   "metadata": {},
   "outputs": [],
   "source": [
    "pass_off_18 = {'TAM':3, 'GNB':20, 'NOR':12, 'KAN':1, 'BAL':26, 'WAS':28, 'NYJ':26, 'CIN':16, 'LAC':8, 'NWE':11, 'LAR':8,\n",
    "           'MIN':10, 'IND':2, 'SEA':5, 'MIA':17, 'DEN':24, 'CAR':14, 'DAL':22, 'CHI':14, 'NYG':21, 'JAX':30, 'HOU':17,\n",
    "           'OAK':24, 'PIT':5, 'ARI':30, 'ATL':3, 'BUF':32, 'CLE':11, 'PHI':11, 'DET':22, 'TEN':28, 'SFO':17}"
   ]
  },
  {
   "cell_type": "code",
   "execution_count": 54,
   "metadata": {},
   "outputs": [],
   "source": [
    "pass_off_19 = {'TAM':18, 'GNB':18, 'NOR':12, 'KAN':3, 'BAL':1, 'WAS':3, 'NYJ':18, 'CIN':12, 'LAC':3, 'NWE':3, 'LAR':18,\n",
    "           'MIN':18, 'IND':12, 'SEA':12, 'MIA':18, 'DEN':18, 'CAR':30, 'DAL':2, 'CHI':30, 'NYG':18, 'JAX':3, 'HOU':3,\n",
    "           'OAK':18, 'PIT':30, 'ARI':12, 'ATL':12, 'BUF':18, 'CLE':18, 'PHI':3, 'DET':3, 'TEN':3, 'SFO':18}"
   ]
  },
  {
   "cell_type": "code",
   "execution_count": 4,
   "metadata": {},
   "outputs": [],
   "source": [
    "def change_rank(x):\n",
    "    return (-1*(x-32))+1\n"
   ]
  },
  {
   "cell_type": "code",
   "execution_count": 191,
   "metadata": {},
   "outputs": [],
   "source": [
    "def clean_stats_qb(run_stats, dic_def, dic_off):\n",
    "    run_stats = run_stats.rename({'Unnamed: 7': 'Where'}, axis=1)\n",
    "    run_stats = run_stats[(run_stats['Pos'] == 'QB') & (run_stats['Att'] >= 10)]\n",
    "    result = []\n",
    "    points_home = []\n",
    "    points_away = []\n",
    "    for x in run_stats.Result:\n",
    "        result.append(x[0])\n",
    "        reg1 = re.findall(r'\\d*[^-]', x)\n",
    "        points_home.append(reg1[2])\n",
    "        points_away.append(reg1[3])\n",
    "    run_stats['Result'] = result\n",
    "    run_stats['Points_Team'] = points_home\n",
    "    run_stats['Points_Opp'] = points_away\n",
    "    run_stats.Where.fillna('home', inplace=True)\n",
    "    run_stats2 = run_stats.reset_index(drop=True)\n",
    "    stadium = [] \n",
    "    for i, x in enumerate(run_stats2.Where):\n",
    "        if x == 'home':\n",
    "            stadium.append(1)\n",
    "        else:\n",
    "            stadium.append(0)\n",
    "    run_stats2['Where'] = stadium\n",
    "    dif_list = []\n",
    "    for i, x in enumerate(run_stats2.Where):\n",
    "        if x == 0:\n",
    "            dif_list.append(dif_sta[run_stats2.Opp[i]]+32)\n",
    "        else:\n",
    "            dif_list.append(change_rank(dif_sta[run_stats2.Tm[i]]))\n",
    "    run_stats2['Stad_Diff'] = dif_list\n",
    "    run_stats3 = run_stats2.drop(['Lg', 'G#', 'Rk', 'Pos', 'Age', 'Y/A', 'Yds.1', 'Rate', 'Cmp', 'AY/A'], axis=1)\n",
    "    run_stats3['Month'] = [x.month for x in run_stats3.Date]\n",
    "    run_stats3['Month'] = run_stats3['Month'].map({9:'September', 10:'October', 11:'November', 12:'December'})\n",
    "    run_stats3['Points_Team'] = pd.to_numeric(run_stats3.Points_Team, errors='coerce')\n",
    "    run_stats3['Points_Opp'] = pd.to_numeric(run_stats3.Points_Opp, errors='coerce')\n",
    "    run_stats3['Result'] = run_stats3.Result.map({'W':1, 'L':0, 'T':2})\n",
    "    run_stats3['Opp'] = run_stats3['Opp'].map(dic_def)\n",
    "    off = [change_rank(dic_off[x]) for x in run_stats3.Tm]\n",
    "    run_stats3['Tm'] = off\n",
    "    run_stats4 = run_stats3.set_index(['Date', 'Week', 'Player'])\n",
    "    run_stats5 = pd.get_dummies(run_stats4)\n",
    "    run_stats6 = run_stats5.drop(['Result', 'Points_Opp'], axis=1)\n",
    "    return run_stats6"
   ]
  },
  {
   "cell_type": "code",
   "execution_count": 192,
   "metadata": {},
   "outputs": [],
   "source": [
    "def clean_stats_qb19_w4(df1, w1):\n",
    "    w1['Month_October'] = [0 for x in range(len(w1))]\n",
    "    w1['Month_November'] = [0 for x in range(len(w1))]\n",
    "    w1['Month_December'] = [0 for x in range(len(w1))]\n",
    "    w1['Day_Sat'] = [0 for x in range(len(w1))]\n",
    "    w1 = w1[list(df1.columns)]\n",
    "    run = pd.concat([df1, w1], sort=False)\n",
    "    return run"
   ]
  },
  {
   "cell_type": "code",
   "execution_count": 193,
   "metadata": {},
   "outputs": [],
   "source": [
    "pass1 = pd.read_excel('../data/pass/sportsref_pass1_18.xls')\n",
    "for x in range(1,12):\n",
    "    c = pd.read_excel(f'../data/pass/sportsref_downloadp({x}).xls', skiprows=1)\n",
    "    pass1 = pd.concat([pass1, c], ignore_index = True, sort=False)"
   ]
  },
  {
   "cell_type": "code",
   "execution_count": 194,
   "metadata": {},
   "outputs": [],
   "source": [
    "passw1 = pd.read_excel('../data/pass/sportsref_downloadpred(1).xls', skiprows=1)"
   ]
  },
  {
   "cell_type": "code",
   "execution_count": 195,
   "metadata": {},
   "outputs": [],
   "source": [
    "pass_stats1 = clean_stats_qb(pass1, dif_pass_def, pass_off_18)"
   ]
  },
  {
   "cell_type": "code",
   "execution_count": 196,
   "metadata": {},
   "outputs": [],
   "source": [
    "pass_w1 = clean_stats_qb(passw1, dif_pass_def, pass_off_19)"
   ]
  },
  {
   "cell_type": "code",
   "execution_count": 197,
   "metadata": {},
   "outputs": [],
   "source": [
    "pass_stats19 = clean_stats_qb19_w4(pass_stats1, pass_w1)"
   ]
  },
  {
   "cell_type": "code",
   "execution_count": 198,
   "metadata": {},
   "outputs": [
    {
     "data": {
      "text/plain": [
       "Index(['Tm', 'Where', 'Opp', 'Att', 'Cmp%', 'Yds', 'TD', 'Int', 'Sk',\n",
       "       'Points_Team', 'Stad_Diff', 'Day_Mon', 'Day_Sat', 'Day_Sun', 'Day_Thu',\n",
       "       'Month_December', 'Month_November', 'Month_October', 'Month_September'],\n",
       "      dtype='object')"
      ]
     },
     "execution_count": 198,
     "metadata": {},
     "output_type": "execute_result"
    }
   ],
   "source": [
    "pass_stats19.columns"
   ]
  },
  {
   "cell_type": "code",
   "execution_count": 199,
   "metadata": {},
   "outputs": [
    {
     "data": {
      "text/plain": [
       "Index(['Tm', 'Where', 'Opp', 'Att', 'Cmp%', 'Yds', 'TD', 'Int', 'Sk',\n",
       "       'Points_Team', 'Stad_Diff', 'Day_Mon', 'Day_Sat', 'Day_Sun', 'Day_Thu',\n",
       "       'Month_December', 'Month_November', 'Month_October', 'Month_September'],\n",
       "      dtype='object')"
      ]
     },
     "execution_count": 199,
     "metadata": {},
     "output_type": "execute_result"
    }
   ],
   "source": [
    "pass_stats1.columns"
   ]
  },
  {
   "cell_type": "code",
   "execution_count": 200,
   "metadata": {},
   "outputs": [],
   "source": [
    "passw1_mod = pass_stats19"
   ]
  },
  {
   "cell_type": "code",
   "execution_count": 201,
   "metadata": {},
   "outputs": [],
   "source": [
    "from sklearn.model_selection import train_test_split\n",
    "from sklearn.linear_model import LinearRegression\n",
    "from sklearn.metrics import mean_squared_error, mean_absolute_error"
   ]
  },
  {
   "cell_type": "code",
   "execution_count": 202,
   "metadata": {},
   "outputs": [
    {
     "name": "stdout",
     "output_type": "stream",
     "text": [
      "rmse:  6.164828963821639 \n",
      " mae: 5.012405283803852\n"
     ]
    }
   ],
   "source": [
    "y = passw1_mod.Points_Team\n",
    "X = passw1_mod.drop('Points_Team', axis=1)\n",
    "X_train, X_test, y_train, y_test = train_test_split(X, y)\n",
    "linreg = LinearRegression()\n",
    "linreg.fit(X_train, y_train)\n",
    "pred_rec = linreg.predict(X_test)\n",
    "mse = mean_squared_error(y_test, pred_rec)\n",
    "rmse = mse**(1/2)\n",
    "mae = mean_absolute_error(y_test, pred_rec)\n",
    "print('rmse: ', rmse, '\\n', 'mae:', mae)"
   ]
  },
  {
   "cell_type": "code",
   "execution_count": 203,
   "metadata": {},
   "outputs": [
    {
     "name": "stdout",
     "output_type": "stream",
     "text": [
      "rmse:  6.164828963821639 \n",
      " mae: 5.012405283803852\n"
     ]
    }
   ],
   "source": [
    "mse = mean_squared_error(y_test, pred_rec)\n",
    "rmse = mse**(1/2)\n",
    "mae = mean_absolute_error(y_test, pred_rec)\n",
    "print('rmse: ', rmse, '\\n', 'mae:', mae)"
   ]
  },
  {
   "cell_type": "code",
   "execution_count": 154,
   "metadata": {},
   "outputs": [],
   "source": [
    "drew = passw1_mod.xs('Drew Brees', level='Player')\n"
   ]
  },
  {
   "cell_type": "code",
   "execution_count": 155,
   "metadata": {},
   "outputs": [],
   "source": [
    "brees = pd.DataFrame(drew.describe().loc['mean', ['Att', 'Cmp%', 'Yds', 'TD', 'Int', 'Sk']]).T"
   ]
  },
  {
   "cell_type": "code",
   "execution_count": 156,
   "metadata": {},
   "outputs": [
    {
     "data": {
      "text/html": [
       "<div>\n",
       "<style scoped>\n",
       "    .dataframe tbody tr th:only-of-type {\n",
       "        vertical-align: middle;\n",
       "    }\n",
       "\n",
       "    .dataframe tbody tr th {\n",
       "        vertical-align: top;\n",
       "    }\n",
       "\n",
       "    .dataframe thead th {\n",
       "        text-align: right;\n",
       "    }\n",
       "</style>\n",
       "<table border=\"1\" class=\"dataframe\">\n",
       "  <thead>\n",
       "    <tr style=\"text-align: right;\">\n",
       "      <th></th>\n",
       "      <th>Att</th>\n",
       "      <th>Cmp%</th>\n",
       "      <th>Yds</th>\n",
       "      <th>TD</th>\n",
       "      <th>Int</th>\n",
       "      <th>Sk</th>\n",
       "    </tr>\n",
       "  </thead>\n",
       "  <tbody>\n",
       "    <tr>\n",
       "      <th>mean</th>\n",
       "      <td>33.25</td>\n",
       "      <td>74.333125</td>\n",
       "      <td>272.625</td>\n",
       "      <td>2.125</td>\n",
       "      <td>0.375</td>\n",
       "      <td>1.125</td>\n",
       "    </tr>\n",
       "  </tbody>\n",
       "</table>\n",
       "</div>"
      ],
      "text/plain": [
       "        Att       Cmp%      Yds     TD    Int     Sk\n",
       "mean  33.25  74.333125  272.625  2.125  0.375  1.125"
      ]
     },
     "execution_count": 156,
     "metadata": {},
     "output_type": "execute_result"
    }
   ],
   "source": [
    "brees"
   ]
  },
  {
   "cell_type": "code",
   "execution_count": 204,
   "metadata": {},
   "outputs": [],
   "source": [
    "info = ['Drew Brees', 'NOR', 1, 'CAR', 'September', 'Sun']"
   ]
  },
  {
   "cell_type": "code",
   "execution_count": 205,
   "metadata": {},
   "outputs": [
    {
     "data": {
      "text/html": [
       "<div>\n",
       "<style scoped>\n",
       "    .dataframe tbody tr th:only-of-type {\n",
       "        vertical-align: middle;\n",
       "    }\n",
       "\n",
       "    .dataframe tbody tr th {\n",
       "        vertical-align: top;\n",
       "    }\n",
       "\n",
       "    .dataframe thead th {\n",
       "        text-align: right;\n",
       "    }\n",
       "</style>\n",
       "<table border=\"1\" class=\"dataframe\">\n",
       "  <thead>\n",
       "    <tr style=\"text-align: right;\">\n",
       "      <th></th>\n",
       "      <th></th>\n",
       "      <th></th>\n",
       "      <th>Tm</th>\n",
       "      <th>Where</th>\n",
       "      <th>Opp</th>\n",
       "      <th>Att</th>\n",
       "      <th>Cmp%</th>\n",
       "      <th>Yds</th>\n",
       "      <th>TD</th>\n",
       "      <th>Int</th>\n",
       "      <th>Sk</th>\n",
       "      <th>Points_Team</th>\n",
       "      <th>Stad_Diff</th>\n",
       "      <th>Day_Mon</th>\n",
       "      <th>Day_Sat</th>\n",
       "      <th>Day_Sun</th>\n",
       "      <th>Day_Thu</th>\n",
       "      <th>Month_December</th>\n",
       "      <th>Month_November</th>\n",
       "      <th>Month_October</th>\n",
       "      <th>Month_September</th>\n",
       "    </tr>\n",
       "    <tr>\n",
       "      <th>Date</th>\n",
       "      <th>Week</th>\n",
       "      <th>Player</th>\n",
       "      <th></th>\n",
       "      <th></th>\n",
       "      <th></th>\n",
       "      <th></th>\n",
       "      <th></th>\n",
       "      <th></th>\n",
       "      <th></th>\n",
       "      <th></th>\n",
       "      <th></th>\n",
       "      <th></th>\n",
       "      <th></th>\n",
       "      <th></th>\n",
       "      <th></th>\n",
       "      <th></th>\n",
       "      <th></th>\n",
       "      <th></th>\n",
       "      <th></th>\n",
       "      <th></th>\n",
       "      <th></th>\n",
       "    </tr>\n",
       "  </thead>\n",
       "  <tbody>\n",
       "    <tr>\n",
       "      <th>2018-09-09</th>\n",
       "      <th>1</th>\n",
       "      <th>Ryan Fitzpatrick</th>\n",
       "      <td>30</td>\n",
       "      <td>0</td>\n",
       "      <td>4</td>\n",
       "      <td>28</td>\n",
       "      <td>75.0</td>\n",
       "      <td>417</td>\n",
       "      <td>4</td>\n",
       "      <td>0</td>\n",
       "      <td>0</td>\n",
       "      <td>48</td>\n",
       "      <td>58</td>\n",
       "      <td>0</td>\n",
       "      <td>0</td>\n",
       "      <td>1</td>\n",
       "      <td>0</td>\n",
       "      <td>0</td>\n",
       "      <td>0</td>\n",
       "      <td>0</td>\n",
       "      <td>1</td>\n",
       "    </tr>\n",
       "  </tbody>\n",
       "</table>\n",
       "</div>"
      ],
      "text/plain": [
       "                                  Tm  Where  Opp  Att  Cmp%  Yds  TD  Int  Sk  \\\n",
       "Date       Week Player                                                          \n",
       "2018-09-09 1    Ryan Fitzpatrick  30      0    4   28  75.0  417   4    0   0   \n",
       "\n",
       "                                  Points_Team  Stad_Diff  Day_Mon  Day_Sat  \\\n",
       "Date       Week Player                                                       \n",
       "2018-09-09 1    Ryan Fitzpatrick           48         58        0        0   \n",
       "\n",
       "                                  Day_Sun  Day_Thu  Month_December  \\\n",
       "Date       Week Player                                               \n",
       "2018-09-09 1    Ryan Fitzpatrick        1        0               0   \n",
       "\n",
       "                                  Month_November  Month_October  \\\n",
       "Date       Week Player                                            \n",
       "2018-09-09 1    Ryan Fitzpatrick               0              0   \n",
       "\n",
       "                                  Month_September  \n",
       "Date       Week Player                             \n",
       "2018-09-09 1    Ryan Fitzpatrick                1  "
      ]
     },
     "execution_count": 205,
     "metadata": {},
     "output_type": "execute_result"
    }
   ],
   "source": [
    "passw1_mod.head(1)"
   ]
  },
  {
   "cell_type": "code",
   "execution_count": 206,
   "metadata": {},
   "outputs": [],
   "source": [
    "def pass_for_pred(info, passw1_mod):\n",
    "    cols = ['Day_Mon', 'Day_Sat', 'Day_Sun', 'Day_Thu', 'Month_December', 'Month_November', \n",
    "            'Month_October', 'Month_September']\n",
    "    drew = passw1_mod.xs(info[0], level='Player')\n",
    "    brees = pd.DataFrame(drew.describe().loc['mean', ['Att', 'Cmp%', 'Yds', 'TD', 'Int', 'Sk']]).T\n",
    "    brees['Tm'] = change_rank(pass_off_19[info[1]])\n",
    "    brees['Where'] = info[2]\n",
    "    brees['Opp'] = dif_pass_def[info[3]]\n",
    "    if info[2] == 0:\n",
    "        brees['Stad_Diff'] = dif_sta[info[3]]\n",
    "    else:\n",
    "        brees['Stad_Diff'] = dif_sta[info[1]]\n",
    "    for x in cols:\n",
    "        brees[x] = 0\n",
    "    brees['Month_'+info[4]]=1\n",
    "    brees['Day_'+info[5]]\n",
    "    passw1_mod.drop('Points_Team', axis=1, inplace=True)\n",
    "    brees = brees[list(passw1_mod.columns)]\n",
    "    return brees"
   ]
  },
  {
   "cell_type": "code",
   "execution_count": 207,
   "metadata": {},
   "outputs": [],
   "source": [
    "drewb = pass_for_pred(info, passw1_mod)"
   ]
  },
  {
   "cell_type": "code",
   "execution_count": 208,
   "metadata": {},
   "outputs": [
    {
     "data": {
      "text/html": [
       "<div>\n",
       "<style scoped>\n",
       "    .dataframe tbody tr th:only-of-type {\n",
       "        vertical-align: middle;\n",
       "    }\n",
       "\n",
       "    .dataframe tbody tr th {\n",
       "        vertical-align: top;\n",
       "    }\n",
       "\n",
       "    .dataframe thead th {\n",
       "        text-align: right;\n",
       "    }\n",
       "</style>\n",
       "<table border=\"1\" class=\"dataframe\">\n",
       "  <thead>\n",
       "    <tr style=\"text-align: right;\">\n",
       "      <th></th>\n",
       "      <th>Tm</th>\n",
       "      <th>Where</th>\n",
       "      <th>Opp</th>\n",
       "      <th>Att</th>\n",
       "      <th>Cmp%</th>\n",
       "      <th>Yds</th>\n",
       "      <th>TD</th>\n",
       "      <th>Int</th>\n",
       "      <th>Sk</th>\n",
       "      <th>Stad_Diff</th>\n",
       "      <th>Day_Mon</th>\n",
       "      <th>Day_Sat</th>\n",
       "      <th>Day_Sun</th>\n",
       "      <th>Day_Thu</th>\n",
       "      <th>Month_December</th>\n",
       "      <th>Month_November</th>\n",
       "      <th>Month_October</th>\n",
       "      <th>Month_September</th>\n",
       "    </tr>\n",
       "  </thead>\n",
       "  <tbody>\n",
       "    <tr>\n",
       "      <th>mean</th>\n",
       "      <td>21</td>\n",
       "      <td>1</td>\n",
       "      <td>15</td>\n",
       "      <td>33.25</td>\n",
       "      <td>74.333125</td>\n",
       "      <td>272.625</td>\n",
       "      <td>2.125</td>\n",
       "      <td>0.375</td>\n",
       "      <td>1.125</td>\n",
       "      <td>26</td>\n",
       "      <td>0</td>\n",
       "      <td>0</td>\n",
       "      <td>0</td>\n",
       "      <td>0</td>\n",
       "      <td>0</td>\n",
       "      <td>0</td>\n",
       "      <td>0</td>\n",
       "      <td>1</td>\n",
       "    </tr>\n",
       "  </tbody>\n",
       "</table>\n",
       "</div>"
      ],
      "text/plain": [
       "      Tm  Where  Opp    Att       Cmp%      Yds     TD    Int     Sk  \\\n",
       "mean  21      1   15  33.25  74.333125  272.625  2.125  0.375  1.125   \n",
       "\n",
       "      Stad_Diff  Day_Mon  Day_Sat  Day_Sun  Day_Thu  Month_December  \\\n",
       "mean         26        0        0        0        0               0   \n",
       "\n",
       "      Month_November  Month_October  Month_September  \n",
       "mean               0              0                1  "
      ]
     },
     "execution_count": 208,
     "metadata": {},
     "output_type": "execute_result"
    }
   ],
   "source": [
    "drewb"
   ]
  },
  {
   "cell_type": "code",
   "execution_count": 187,
   "metadata": {},
   "outputs": [
    {
     "data": {
      "text/html": [
       "<div>\n",
       "<style scoped>\n",
       "    .dataframe tbody tr th:only-of-type {\n",
       "        vertical-align: middle;\n",
       "    }\n",
       "\n",
       "    .dataframe tbody tr th {\n",
       "        vertical-align: top;\n",
       "    }\n",
       "\n",
       "    .dataframe thead th {\n",
       "        text-align: right;\n",
       "    }\n",
       "</style>\n",
       "<table border=\"1\" class=\"dataframe\">\n",
       "  <thead>\n",
       "    <tr style=\"text-align: right;\">\n",
       "      <th></th>\n",
       "      <th></th>\n",
       "      <th></th>\n",
       "      <th>Tm</th>\n",
       "      <th>Where</th>\n",
       "      <th>Opp</th>\n",
       "      <th>Att</th>\n",
       "      <th>Cmp%</th>\n",
       "      <th>Yds</th>\n",
       "      <th>TD</th>\n",
       "      <th>Int</th>\n",
       "      <th>Sk</th>\n",
       "      <th>Stad_Diff</th>\n",
       "      <th>Day_Mon</th>\n",
       "      <th>Day_Sat</th>\n",
       "      <th>Day_Sun</th>\n",
       "      <th>Day_Thu</th>\n",
       "      <th>Month_December</th>\n",
       "      <th>Month_November</th>\n",
       "      <th>Month_October</th>\n",
       "      <th>Month_September</th>\n",
       "    </tr>\n",
       "    <tr>\n",
       "      <th>Date</th>\n",
       "      <th>Week</th>\n",
       "      <th>Player</th>\n",
       "      <th></th>\n",
       "      <th></th>\n",
       "      <th></th>\n",
       "      <th></th>\n",
       "      <th></th>\n",
       "      <th></th>\n",
       "      <th></th>\n",
       "      <th></th>\n",
       "      <th></th>\n",
       "      <th></th>\n",
       "      <th></th>\n",
       "      <th></th>\n",
       "      <th></th>\n",
       "      <th></th>\n",
       "      <th></th>\n",
       "      <th></th>\n",
       "      <th></th>\n",
       "      <th></th>\n",
       "    </tr>\n",
       "  </thead>\n",
       "  <tbody>\n",
       "    <tr>\n",
       "      <th>2018-09-09</th>\n",
       "      <th>1</th>\n",
       "      <th>Ryan Fitzpatrick</th>\n",
       "      <td>30</td>\n",
       "      <td>0</td>\n",
       "      <td>4</td>\n",
       "      <td>28</td>\n",
       "      <td>75.0</td>\n",
       "      <td>417</td>\n",
       "      <td>4</td>\n",
       "      <td>0</td>\n",
       "      <td>0</td>\n",
       "      <td>58</td>\n",
       "      <td>0</td>\n",
       "      <td>0</td>\n",
       "      <td>1</td>\n",
       "      <td>0</td>\n",
       "      <td>0</td>\n",
       "      <td>0</td>\n",
       "      <td>0</td>\n",
       "      <td>1</td>\n",
       "    </tr>\n",
       "  </tbody>\n",
       "</table>\n",
       "</div>"
      ],
      "text/plain": [
       "                                  Tm  Where  Opp  Att  Cmp%  Yds  TD  Int  Sk  \\\n",
       "Date       Week Player                                                          \n",
       "2018-09-09 1    Ryan Fitzpatrick  30      0    4   28  75.0  417   4    0   0   \n",
       "\n",
       "                                  Stad_Diff  Day_Mon  Day_Sat  Day_Sun  \\\n",
       "Date       Week Player                                                   \n",
       "2018-09-09 1    Ryan Fitzpatrick         58        0        0        1   \n",
       "\n",
       "                                  Day_Thu  Month_December  Month_November  \\\n",
       "Date       Week Player                                                      \n",
       "2018-09-09 1    Ryan Fitzpatrick        0               0               0   \n",
       "\n",
       "                                  Month_October  Month_September  \n",
       "Date       Week Player                                            \n",
       "2018-09-09 1    Ryan Fitzpatrick              0                1  "
      ]
     },
     "execution_count": 187,
     "metadata": {},
     "output_type": "execute_result"
    }
   ],
   "source": [
    "passw1_mod.head(1)"
   ]
  },
  {
   "cell_type": "code",
   "execution_count": 209,
   "metadata": {},
   "outputs": [],
   "source": [
    "brees_car = linreg.predict(drewb)"
   ]
  },
  {
   "cell_type": "code",
   "execution_count": 210,
   "metadata": {},
   "outputs": [
    {
     "data": {
      "text/plain": [
       "array([26.6682992])"
      ]
     },
     "execution_count": 210,
     "metadata": {},
     "output_type": "execute_result"
    }
   ],
   "source": [
    "brees_car"
   ]
  },
  {
   "cell_type": "code",
   "execution_count": null,
   "metadata": {},
   "outputs": [],
   "source": []
  }
 ],
 "metadata": {
  "kernelspec": {
   "display_name": "Python 3",
   "language": "python",
   "name": "python3"
  },
  "language_info": {
   "codemirror_mode": {
    "name": "ipython",
    "version": 3
   },
   "file_extension": ".py",
   "mimetype": "text/x-python",
   "name": "python",
   "nbconvert_exporter": "python",
   "pygments_lexer": "ipython3",
   "version": "3.7.3"
  }
 },
 "nbformat": 4,
 "nbformat_minor": 2
}
