{
 "cells": [
  {
   "cell_type": "code",
   "execution_count": 1,
   "metadata": {},
   "outputs": [],
   "source": [
    "import pandas as pd\n",
    "import numpy as np\n",
    "import re\n",
    "import seaborn as sns"
   ]
  },
  {
   "cell_type": "code",
   "execution_count": 2,
   "metadata": {},
   "outputs": [],
   "source": [
    "dif_sta = {'TAM':6, 'GNB':21, 'NOR':26, 'KAN':31, 'BAL':18, 'WAS':15, 'NYJ':4, 'CIN':16, 'LAC':13, 'NWE':32, 'LAR':22,\n",
    "           'MIN':29, 'IND':12, 'SEA':28, 'MIA':7, 'DEN':20, 'CAR':27, 'DAL':23, 'CHI':7, 'NYG':5, 'JAX':3, 'HOU':19,\n",
    "           'OAK':9, 'PIT':30, 'ARI':17, 'ATL':24, 'BUF':10, 'CLE':1, 'PHI':25, 'DET':14, 'TEN':11, 'SFO':2}"
   ]
  },
  {
   "cell_type": "code",
   "execution_count": 3,
   "metadata": {},
   "outputs": [],
   "source": [
    "dif_pass_def = {'TAM':7, 'GNB':21, 'NOR':4, 'KAN':2, 'BAL':28, 'WAS':18, 'NYJ':9, 'CIN':1, 'LAC':24, 'NWE':11, 'LAR':19,\n",
    "           'MIN':30, 'IND':17, 'SEA':16, 'MIA':12, 'DEN':13, 'CAR':15, 'DAL':20, 'CHI':26, 'NYG':10, 'JAX':31, 'HOU':5,\n",
    "           'OAK':14, 'PIT':23, 'ARI':29, 'ATL':6, 'BUF':1, 'CLE':8, 'PHI':3, 'DET':25, 'TEN':27, 'SFO':22}"
   ]
  },
  {
   "cell_type": "code",
   "execution_count": 4,
   "metadata": {},
   "outputs": [],
   "source": [
    "def change_rank(x):\n",
    "    return (-1*(x-32))+1\n"
   ]
  },
  {
   "cell_type": "code",
   "execution_count": 32,
   "metadata": {},
   "outputs": [],
   "source": [
    "def clean_stats_qb(run_stats, dic_def):\n",
    "    run_stats = run_stats.rename({'Unnamed: 7': 'Where'}, axis=1)\n",
    "    run_stats = run_stats[(run_stats['Pos'] == 'QB') & (run_stats['Att'] >= 10)]\n",
    "    result = []\n",
    "    points_home = []\n",
    "    points_away = []\n",
    "    for x in run_stats.Result:\n",
    "        result.append(x[0])\n",
    "        reg1 = re.findall(r'\\d*[^-]', x)\n",
    "        points_home.append(reg1[2])\n",
    "        points_away.append(reg1[3])\n",
    "    run_stats['Result'] = result\n",
    "    run_stats['Points_Team'] = points_home\n",
    "    run_stats['Points_Opp'] = points_away\n",
    "    run_stats.Where.fillna('home', inplace=True)\n",
    "    run_stats2 = run_stats.reset_index(drop=True)\n",
    "    stadium = [] \n",
    "    for i, x in enumerate(run_stats2.Where):\n",
    "        if x == 'home':\n",
    "            stadium.append(1)\n",
    "        else:\n",
    "            stadium.append(0)\n",
    "    run_stats2['Where'] = stadium\n",
    "    dif_list = []\n",
    "    for i, x in enumerate(run_stats2.Where):\n",
    "        if x == 0:\n",
    "            dif_list.append(dif_sta[run_stats2.Opp[i]]+32)\n",
    "        else:\n",
    "            dif_list.append(change_rank(dif_sta[run_stats2.Tm[i]]))\n",
    "    run_stats2['Stad_Diff'] = dif_list\n",
    "    run_stats3 = run_stats2.drop(['Lg', 'Tm', 'G#', 'Rk', 'Pos', 'Age', 'Y/A', 'Yds.1', 'Rate', 'Cmp', 'AY/A'], axis=1)\n",
    "    run_stats3['Month'] = [x.month for x in run_stats3.Date]\n",
    "    run_stats3['Month'] = run_stats3['Date'].map({9:'September', 10:'October', 11:'November', 12:'December'})\n",
    "    run_stats3['Points_Team'] = pd.to_numeric(run_stats3.Points_Team, errors='coerce')\n",
    "    run_stats3['Points_Opp'] = pd.to_numeric(run_stats3.Points_Opp, errors='coerce')\n",
    "    run_stats3['Result'] = run_stats3.Result.map({'W':1, 'L':0, 'T':2})\n",
    "    run_stats3['Opp'] = run_stats3['Opp'].map(dic_def)\n",
    "    run_stats4 = run_stats3.set_index(['Date', 'Week', 'Player'])\n",
    "    run_stats5 = pd.get_dummies(run_stats4)\n",
    "    return run_stats5"
   ]
  },
  {
   "cell_type": "code",
   "execution_count": 33,
   "metadata": {},
   "outputs": [],
   "source": [
    "def clean_stats_qb19_w4(df1, w1):\n",
    "    w1['Date_October'] = [0 for x in range(len(w1))]\n",
    "    w1['Date_November'] = [0 for x in range(len(w1))]\n",
    "    w1['Date_December'] = [0 for x in range(len(w1))]\n",
    "    w1['Day_Sat'] = [0 for x in range(len(w1))]\n",
    "    w1 = w1[list(df1.columns)]\n",
    "    run = pd.concat([df1, w1], sort=False)\n",
    "    return run"
   ]
  },
  {
   "cell_type": "code",
   "execution_count": 34,
   "metadata": {},
   "outputs": [],
   "source": [
    "pass1 = pd.read_excel('../data/pass/sportsref_pass1_18.xls')\n",
    "for x in range(1,12):\n",
    "    c = pd.read_excel(f'../data/pass/sportsref_downloadp({x}).xls', skiprows=1)\n",
    "    pass1 = pd.concat([pass1, c], ignore_index = True, sort=False)"
   ]
  },
  {
   "cell_type": "code",
   "execution_count": 35,
   "metadata": {},
   "outputs": [],
   "source": [
    "passw1 = pd.read_excel('../data/pass/sportsref_downloadpred(1).xls', skiprows=1)"
   ]
  },
  {
   "cell_type": "code",
   "execution_count": 36,
   "metadata": {},
   "outputs": [],
   "source": [
    "pass_stats1 = clean_stats_qb(pass1, dif_pass_def)"
   ]
  },
  {
   "cell_type": "code",
   "execution_count": 37,
   "metadata": {},
   "outputs": [],
   "source": [
    "pass_w1 = clean_stats_qb(passw1, dif_pass_def)"
   ]
  },
  {
   "cell_type": "code",
   "execution_count": 38,
   "metadata": {},
   "outputs": [],
   "source": [
    "pass_stats19 = clean_stats_qb19_w4(pass_stats1, pass_w1)"
   ]
  },
  {
   "cell_type": "code",
   "execution_count": 41,
   "metadata": {},
   "outputs": [
    {
     "data": {
      "text/plain": [
       "6"
      ]
     },
     "execution_count": 41,
     "metadata": {},
     "output_type": "execute_result"
    }
   ],
   "source": [
    "pass_stats19.TD.max()"
   ]
  },
  {
   "cell_type": "code",
   "execution_count": null,
   "metadata": {},
   "outputs": [],
   "source": []
  }
 ],
 "metadata": {
  "kernelspec": {
   "display_name": "Python 3",
   "language": "python",
   "name": "python3"
  },
  "language_info": {
   "codemirror_mode": {
    "name": "ipython",
    "version": 3
   },
   "file_extension": ".py",
   "mimetype": "text/x-python",
   "name": "python",
   "nbconvert_exporter": "python",
   "pygments_lexer": "ipython3",
   "version": "3.7.3"
  }
 },
 "nbformat": 4,
 "nbformat_minor": 2
}
